{
 "cells": [
  {
   "cell_type": "code",
   "execution_count": 11,
   "metadata": {},
   "outputs": [
    {
     "ename": "ModuleNotFoundError",
     "evalue": "No module named 'pylab'",
     "output_type": "error",
     "traceback": [
      "\u001b[0;31m---------------------------------------------------------------------------\u001b[0m",
      "\u001b[0;31mModuleNotFoundError\u001b[0m                       Traceback (most recent call last)",
      "\u001b[1;32m/Users/jaimemac/Documents/Github Access/Ejercicios-semana-2/proyecto-sharks/proyecto1-sharks-/proyectosharks_main-1.ipynb Celda 1\u001b[0m in \u001b[0;36m<cell line: 10>\u001b[0;34m()\u001b[0m\n\u001b[1;32m      <a href='vscode-notebook-cell:/Users/jaimemac/Documents/Github%20Access/Ejercicios-semana-2/proyecto-sharks/proyecto1-sharks-/proyectosharks_main-1.ipynb#W0sZmlsZQ%3D%3D?line=6'>7</a>\u001b[0m warnings\u001b[39m.\u001b[39mfilterwarnings(\u001b[39m'\u001b[39m\u001b[39mignore\u001b[39m\u001b[39m'\u001b[39m)\n\u001b[1;32m      <a href='vscode-notebook-cell:/Users/jaimemac/Documents/Github%20Access/Ejercicios-semana-2/proyecto-sharks/proyecto1-sharks-/proyectosharks_main-1.ipynb#W0sZmlsZQ%3D%3D?line=8'>9</a>\u001b[0m \u001b[39m# para pintar\u001b[39;00m\n\u001b[0;32m---> <a href='vscode-notebook-cell:/Users/jaimemac/Documents/Github%20Access/Ejercicios-semana-2/proyecto-sharks/proyecto1-sharks-/proyectosharks_main-1.ipynb#W0sZmlsZQ%3D%3D?line=9'>10</a>\u001b[0m \u001b[39mimport\u001b[39;00m \u001b[39mpylab\u001b[39;00m \u001b[39mas\u001b[39;00m \u001b[39mplt\u001b[39;00m\n\u001b[1;32m     <a href='vscode-notebook-cell:/Users/jaimemac/Documents/Github%20Access/Ejercicios-semana-2/proyecto-sharks/proyecto1-sharks-/proyectosharks_main-1.ipynb#W0sZmlsZQ%3D%3D?line=10'>11</a>\u001b[0m \u001b[39mimport\u001b[39;00m \u001b[39mseaborn\u001b[39;00m \u001b[39mas\u001b[39;00m \u001b[39msns\u001b[39;00m\n",
      "\u001b[0;31mModuleNotFoundError\u001b[0m: No module named 'pylab'"
     ]
    }
   ],
   "source": [
    "import pandas as pd\n",
    "pd.set_option('display.max_columns', None)\n",
    "\n",
    "import numpy as np\n",
    "\n",
    "import warnings\n",
    "warnings.filterwarnings('ignore')\n",
    "\n",
    "# para pintar\n",
    "import pylab as plt\n",
    "import seaborn as sns\n",
    "\n",
    "# para que salga el grafico\n",
    " #matplotlib inline"
   ]
  },
  {
   "cell_type": "markdown",
   "metadata": {},
   "source": [
    "# LIMPIEZA - GENERAL"
   ]
  },
  {
   "cell_type": "code",
   "execution_count": 12,
   "metadata": {},
   "outputs": [
    {
     "data": {
      "text/html": [
       "<div>\n",
       "<style scoped>\n",
       "    .dataframe tbody tr th:only-of-type {\n",
       "        vertical-align: middle;\n",
       "    }\n",
       "\n",
       "    .dataframe tbody tr th {\n",
       "        vertical-align: top;\n",
       "    }\n",
       "\n",
       "    .dataframe thead th {\n",
       "        text-align: right;\n",
       "    }\n",
       "</style>\n",
       "<table border=\"1\" class=\"dataframe\">\n",
       "  <thead>\n",
       "    <tr style=\"text-align: right;\">\n",
       "      <th></th>\n",
       "      <th>Case Number</th>\n",
       "      <th>Date</th>\n",
       "      <th>Year</th>\n",
       "      <th>Type</th>\n",
       "      <th>Country</th>\n",
       "      <th>Area</th>\n",
       "      <th>Location</th>\n",
       "      <th>Activity</th>\n",
       "      <th>Name</th>\n",
       "      <th>Sex</th>\n",
       "      <th>Age</th>\n",
       "      <th>Injury</th>\n",
       "      <th>Fatal (Y/N)</th>\n",
       "      <th>Time</th>\n",
       "      <th>Species</th>\n",
       "      <th>Investigator or Source</th>\n",
       "      <th>pdf</th>\n",
       "      <th>href formula</th>\n",
       "      <th>href</th>\n",
       "      <th>Case Number.1</th>\n",
       "      <th>Case Number.2</th>\n",
       "      <th>original order</th>\n",
       "      <th>Unnamed: 22</th>\n",
       "      <th>Unnamed: 23</th>\n",
       "    </tr>\n",
       "  </thead>\n",
       "  <tbody>\n",
       "    <tr>\n",
       "      <th>0</th>\n",
       "      <td>2018.06.25</td>\n",
       "      <td>25-Jun-2018</td>\n",
       "      <td>2018.0</td>\n",
       "      <td>Boating</td>\n",
       "      <td>USA</td>\n",
       "      <td>California</td>\n",
       "      <td>Oceanside, San Diego County</td>\n",
       "      <td>Paddling</td>\n",
       "      <td>Julie Wolfe</td>\n",
       "      <td>F</td>\n",
       "      <td>57</td>\n",
       "      <td>No injury to occupant, outrigger canoe and pad...</td>\n",
       "      <td>N</td>\n",
       "      <td>18h00</td>\n",
       "      <td>White shark</td>\n",
       "      <td>R. Collier, GSAF</td>\n",
       "      <td>2018.06.25-Wolfe.pdf</td>\n",
       "      <td>http://sharkattackfile.net/spreadsheets/pdf_di...</td>\n",
       "      <td>http://sharkattackfile.net/spreadsheets/pdf_di...</td>\n",
       "      <td>2018.06.25</td>\n",
       "      <td>2018.06.25</td>\n",
       "      <td>6303.0</td>\n",
       "      <td>NaN</td>\n",
       "      <td>NaN</td>\n",
       "    </tr>\n",
       "    <tr>\n",
       "      <th>1</th>\n",
       "      <td>2018.06.18</td>\n",
       "      <td>18-Jun-2018</td>\n",
       "      <td>2018.0</td>\n",
       "      <td>Unprovoked</td>\n",
       "      <td>USA</td>\n",
       "      <td>Georgia</td>\n",
       "      <td>St. Simon Island, Glynn County</td>\n",
       "      <td>Standing</td>\n",
       "      <td>Adyson McNeely</td>\n",
       "      <td>F</td>\n",
       "      <td>11</td>\n",
       "      <td>Minor injury to left thigh</td>\n",
       "      <td>N</td>\n",
       "      <td>14h00  -15h00</td>\n",
       "      <td>NaN</td>\n",
       "      <td>K.McMurray, TrackingSharks.com</td>\n",
       "      <td>2018.06.18-McNeely.pdf</td>\n",
       "      <td>http://sharkattackfile.net/spreadsheets/pdf_di...</td>\n",
       "      <td>http://sharkattackfile.net/spreadsheets/pdf_di...</td>\n",
       "      <td>2018.06.18</td>\n",
       "      <td>2018.06.18</td>\n",
       "      <td>6302.0</td>\n",
       "      <td>NaN</td>\n",
       "      <td>NaN</td>\n",
       "    </tr>\n",
       "    <tr>\n",
       "      <th>2</th>\n",
       "      <td>2018.06.09</td>\n",
       "      <td>09-Jun-2018</td>\n",
       "      <td>2018.0</td>\n",
       "      <td>Invalid</td>\n",
       "      <td>USA</td>\n",
       "      <td>Hawaii</td>\n",
       "      <td>Habush, Oahu</td>\n",
       "      <td>Surfing</td>\n",
       "      <td>John Denges</td>\n",
       "      <td>M</td>\n",
       "      <td>48</td>\n",
       "      <td>Injury to left lower leg from surfboard skeg</td>\n",
       "      <td>N</td>\n",
       "      <td>07h45</td>\n",
       "      <td>NaN</td>\n",
       "      <td>K.McMurray, TrackingSharks.com</td>\n",
       "      <td>2018.06.09-Denges.pdf</td>\n",
       "      <td>http://sharkattackfile.net/spreadsheets/pdf_di...</td>\n",
       "      <td>http://sharkattackfile.net/spreadsheets/pdf_di...</td>\n",
       "      <td>2018.06.09</td>\n",
       "      <td>2018.06.09</td>\n",
       "      <td>6301.0</td>\n",
       "      <td>NaN</td>\n",
       "      <td>NaN</td>\n",
       "    </tr>\n",
       "    <tr>\n",
       "      <th>3</th>\n",
       "      <td>2018.06.08</td>\n",
       "      <td>08-Jun-2018</td>\n",
       "      <td>2018.0</td>\n",
       "      <td>Unprovoked</td>\n",
       "      <td>AUSTRALIA</td>\n",
       "      <td>New South Wales</td>\n",
       "      <td>Arrawarra Headland</td>\n",
       "      <td>Surfing</td>\n",
       "      <td>male</td>\n",
       "      <td>M</td>\n",
       "      <td>NaN</td>\n",
       "      <td>Minor injury to lower leg</td>\n",
       "      <td>N</td>\n",
       "      <td>NaN</td>\n",
       "      <td>2 m shark</td>\n",
       "      <td>B. Myatt, GSAF</td>\n",
       "      <td>2018.06.08-Arrawarra.pdf</td>\n",
       "      <td>http://sharkattackfile.net/spreadsheets/pdf_di...</td>\n",
       "      <td>http://sharkattackfile.net/spreadsheets/pdf_di...</td>\n",
       "      <td>2018.06.08</td>\n",
       "      <td>2018.06.08</td>\n",
       "      <td>6300.0</td>\n",
       "      <td>NaN</td>\n",
       "      <td>NaN</td>\n",
       "    </tr>\n",
       "    <tr>\n",
       "      <th>4</th>\n",
       "      <td>2018.06.04</td>\n",
       "      <td>04-Jun-2018</td>\n",
       "      <td>2018.0</td>\n",
       "      <td>Provoked</td>\n",
       "      <td>MEXICO</td>\n",
       "      <td>Colima</td>\n",
       "      <td>La Ticla</td>\n",
       "      <td>Free diving</td>\n",
       "      <td>Gustavo Ramos</td>\n",
       "      <td>M</td>\n",
       "      <td>NaN</td>\n",
       "      <td>Lacerations to leg &amp; hand shark PROVOKED INCIDENT</td>\n",
       "      <td>N</td>\n",
       "      <td>NaN</td>\n",
       "      <td>Tiger shark, 3m</td>\n",
       "      <td>A .Kipper</td>\n",
       "      <td>2018.06.04-Ramos.pdf</td>\n",
       "      <td>http://sharkattackfile.net/spreadsheets/pdf_di...</td>\n",
       "      <td>http://sharkattackfile.net/spreadsheets/pdf_di...</td>\n",
       "      <td>2018.06.04</td>\n",
       "      <td>2018.06.04</td>\n",
       "      <td>6299.0</td>\n",
       "      <td>NaN</td>\n",
       "      <td>NaN</td>\n",
       "    </tr>\n",
       "  </tbody>\n",
       "</table>\n",
       "</div>"
      ],
      "text/plain": [
       "  Case Number         Date    Year        Type    Country             Area  \\\n",
       "0  2018.06.25  25-Jun-2018  2018.0     Boating        USA       California   \n",
       "1  2018.06.18  18-Jun-2018  2018.0  Unprovoked        USA          Georgia   \n",
       "2  2018.06.09  09-Jun-2018  2018.0     Invalid        USA           Hawaii   \n",
       "3  2018.06.08  08-Jun-2018  2018.0  Unprovoked  AUSTRALIA  New South Wales   \n",
       "4  2018.06.04  04-Jun-2018  2018.0    Provoked     MEXICO           Colima   \n",
       "\n",
       "                         Location     Activity             Name Sex   Age  \\\n",
       "0     Oceanside, San Diego County     Paddling      Julie Wolfe    F   57   \n",
       "1  St. Simon Island, Glynn County     Standing  Adyson McNeely     F   11   \n",
       "2                    Habush, Oahu      Surfing      John Denges    M   48   \n",
       "3              Arrawarra Headland      Surfing             male    M  NaN   \n",
       "4                        La Ticla  Free diving   Gustavo Ramos     M  NaN   \n",
       "\n",
       "                                              Injury Fatal (Y/N)  \\\n",
       "0  No injury to occupant, outrigger canoe and pad...           N   \n",
       "1                         Minor injury to left thigh           N   \n",
       "2       Injury to left lower leg from surfboard skeg           N   \n",
       "3                          Minor injury to lower leg           N   \n",
       "4  Lacerations to leg & hand shark PROVOKED INCIDENT           N   \n",
       "\n",
       "            Time         Species           Investigator or Source  \\\n",
       "0          18h00      White shark                R. Collier, GSAF   \n",
       "1  14h00  -15h00              NaN  K.McMurray, TrackingSharks.com   \n",
       "2          07h45              NaN  K.McMurray, TrackingSharks.com   \n",
       "3            NaN        2 m shark                  B. Myatt, GSAF   \n",
       "4            NaN  Tiger shark, 3m                       A .Kipper   \n",
       "\n",
       "                        pdf  \\\n",
       "0      2018.06.25-Wolfe.pdf   \n",
       "1    2018.06.18-McNeely.pdf   \n",
       "2     2018.06.09-Denges.pdf   \n",
       "3  2018.06.08-Arrawarra.pdf   \n",
       "4      2018.06.04-Ramos.pdf   \n",
       "\n",
       "                                        href formula  \\\n",
       "0  http://sharkattackfile.net/spreadsheets/pdf_di...   \n",
       "1  http://sharkattackfile.net/spreadsheets/pdf_di...   \n",
       "2  http://sharkattackfile.net/spreadsheets/pdf_di...   \n",
       "3  http://sharkattackfile.net/spreadsheets/pdf_di...   \n",
       "4  http://sharkattackfile.net/spreadsheets/pdf_di...   \n",
       "\n",
       "                                                href Case Number.1  \\\n",
       "0  http://sharkattackfile.net/spreadsheets/pdf_di...    2018.06.25   \n",
       "1  http://sharkattackfile.net/spreadsheets/pdf_di...    2018.06.18   \n",
       "2  http://sharkattackfile.net/spreadsheets/pdf_di...    2018.06.09   \n",
       "3  http://sharkattackfile.net/spreadsheets/pdf_di...    2018.06.08   \n",
       "4  http://sharkattackfile.net/spreadsheets/pdf_di...    2018.06.04   \n",
       "\n",
       "  Case Number.2  original order Unnamed: 22 Unnamed: 23  \n",
       "0    2018.06.25          6303.0         NaN         NaN  \n",
       "1    2018.06.18          6302.0         NaN         NaN  \n",
       "2    2018.06.09          6301.0         NaN         NaN  \n",
       "3    2018.06.08          6300.0         NaN         NaN  \n",
       "4    2018.06.04          6299.0         NaN         NaN  "
      ]
     },
     "execution_count": 12,
     "metadata": {},
     "output_type": "execute_result"
    }
   ],
   "source": [
    "df_ori = pd.read_csv('../proyecto1-sharks-/attacks.csv',  encoding='cp1252')\n",
    "\n",
    "df = df_ori.copy()\n",
    "\n",
    "df.head()"
   ]
  },
  {
   "cell_type": "code",
   "execution_count": 7,
   "metadata": {},
   "outputs": [
    {
     "data": {
      "text/plain": [
       "Index(['Case Number', 'Date', 'Year', 'Type', 'Country', 'Area', 'Location',\n",
       "       'Activity', 'Name', 'Sex ', 'Age', 'Injury', 'Fatal (Y/N)', 'Time',\n",
       "       'Species ', 'Investigator or Source', 'pdf', 'href formula', 'href',\n",
       "       'Case Number.1', 'Case Number.2', 'original order', 'Unnamed: 22',\n",
       "       'Unnamed: 23'],\n",
       "      dtype='object')"
      ]
     },
     "execution_count": 7,
     "metadata": {},
     "output_type": "execute_result"
    }
   ],
   "source": [
    "df.columns"
   ]
  },
  {
   "cell_type": "markdown",
   "metadata": {},
   "source": [
    "# renombro columnas"
   ]
  },
  {
   "cell_type": "code",
   "execution_count": 21,
   "metadata": {},
   "outputs": [],
   "source": [
    "#renombro columnas antes de hacer mas cambios, sobre todo cuando llegue a fecha y otras.\n",
    "\n",
    "df.rename(columns={'Case Number': 'case-number1', 'Date': 'date', 'Type': 'typeattack', 'Country': 'country', 'Area': 'area', 'Location': 'location',\n",
    "       'Activity': 'activity', 'Name': 'name', 'Sex ':'sex', 'Age': 'age', 'Injury': 'injury', 'Fatal (Y/N)': 'fatality', 'Time': 'time',\n",
    "       'Species ': 'species', 'Investigator or Source': 'source', 'pdf': 'pdf', 'href formula': 'url-1', 'href':'url-2',\n",
    "       'Case Number.1': 'case-number2', 'Case Number.2':'case-number3', 'original order': 'original-order', 'Unnamed: 22':'empty1', 'Unnamed: 23': 'empty2'}, inplace=True)\n",
    "\n"
   ]
  },
  {
   "cell_type": "markdown",
   "metadata": {},
   "source": [
    "# Empieza investigación"
   ]
  },
  {
   "cell_type": "code",
   "execution_count": 22,
   "metadata": {},
   "outputs": [
    {
     "data": {
      "text/html": [
       "<div>\n",
       "<style scoped>\n",
       "    .dataframe tbody tr th:only-of-type {\n",
       "        vertical-align: middle;\n",
       "    }\n",
       "\n",
       "    .dataframe tbody tr th {\n",
       "        vertical-align: top;\n",
       "    }\n",
       "\n",
       "    .dataframe thead th {\n",
       "        text-align: right;\n",
       "    }\n",
       "</style>\n",
       "<table border=\"1\" class=\"dataframe\">\n",
       "  <thead>\n",
       "    <tr style=\"text-align: right;\">\n",
       "      <th></th>\n",
       "      <th>case-number1</th>\n",
       "      <th>date</th>\n",
       "      <th>Year</th>\n",
       "      <th>typeattack</th>\n",
       "      <th>country</th>\n",
       "      <th>area</th>\n",
       "      <th>location</th>\n",
       "      <th>activity</th>\n",
       "      <th>name</th>\n",
       "      <th>sex</th>\n",
       "      <th>age</th>\n",
       "      <th>injury</th>\n",
       "      <th>fatality</th>\n",
       "      <th>time</th>\n",
       "      <th>species</th>\n",
       "      <th>source</th>\n",
       "      <th>pdf</th>\n",
       "      <th>url-1</th>\n",
       "      <th>url-2</th>\n",
       "      <th>case-number2</th>\n",
       "      <th>case-number3</th>\n",
       "      <th>original-order</th>\n",
       "      <th>empty1</th>\n",
       "      <th>empty2</th>\n",
       "    </tr>\n",
       "  </thead>\n",
       "  <tbody>\n",
       "    <tr>\n",
       "      <th>0</th>\n",
       "      <td>2018.06.25</td>\n",
       "      <td>25-Jun-2018</td>\n",
       "      <td>2018.0</td>\n",
       "      <td>Boating</td>\n",
       "      <td>USA</td>\n",
       "      <td>California</td>\n",
       "      <td>Oceanside, San Diego County</td>\n",
       "      <td>Paddling</td>\n",
       "      <td>Julie Wolfe</td>\n",
       "      <td>F</td>\n",
       "      <td>57</td>\n",
       "      <td>No injury to occupant, outrigger canoe and pad...</td>\n",
       "      <td>N</td>\n",
       "      <td>18h00</td>\n",
       "      <td>White shark</td>\n",
       "      <td>R. Collier, GSAF</td>\n",
       "      <td>2018.06.25-Wolfe.pdf</td>\n",
       "      <td>http://sharkattackfile.net/spreadsheets/pdf_di...</td>\n",
       "      <td>http://sharkattackfile.net/spreadsheets/pdf_di...</td>\n",
       "      <td>2018.06.25</td>\n",
       "      <td>2018.06.25</td>\n",
       "      <td>6303.0</td>\n",
       "      <td>NaN</td>\n",
       "      <td>NaN</td>\n",
       "    </tr>\n",
       "    <tr>\n",
       "      <th>1</th>\n",
       "      <td>2018.06.18</td>\n",
       "      <td>18-Jun-2018</td>\n",
       "      <td>2018.0</td>\n",
       "      <td>Unprovoked</td>\n",
       "      <td>USA</td>\n",
       "      <td>Georgia</td>\n",
       "      <td>St. Simon Island, Glynn County</td>\n",
       "      <td>Standing</td>\n",
       "      <td>Adyson McNeely</td>\n",
       "      <td>F</td>\n",
       "      <td>11</td>\n",
       "      <td>Minor injury to left thigh</td>\n",
       "      <td>N</td>\n",
       "      <td>14h00  -15h00</td>\n",
       "      <td>NaN</td>\n",
       "      <td>K.McMurray, TrackingSharks.com</td>\n",
       "      <td>2018.06.18-McNeely.pdf</td>\n",
       "      <td>http://sharkattackfile.net/spreadsheets/pdf_di...</td>\n",
       "      <td>http://sharkattackfile.net/spreadsheets/pdf_di...</td>\n",
       "      <td>2018.06.18</td>\n",
       "      <td>2018.06.18</td>\n",
       "      <td>6302.0</td>\n",
       "      <td>NaN</td>\n",
       "      <td>NaN</td>\n",
       "    </tr>\n",
       "    <tr>\n",
       "      <th>2</th>\n",
       "      <td>2018.06.09</td>\n",
       "      <td>09-Jun-2018</td>\n",
       "      <td>2018.0</td>\n",
       "      <td>Invalid</td>\n",
       "      <td>USA</td>\n",
       "      <td>Hawaii</td>\n",
       "      <td>Habush, Oahu</td>\n",
       "      <td>Surfing</td>\n",
       "      <td>John Denges</td>\n",
       "      <td>M</td>\n",
       "      <td>48</td>\n",
       "      <td>Injury to left lower leg from surfboard skeg</td>\n",
       "      <td>N</td>\n",
       "      <td>07h45</td>\n",
       "      <td>NaN</td>\n",
       "      <td>K.McMurray, TrackingSharks.com</td>\n",
       "      <td>2018.06.09-Denges.pdf</td>\n",
       "      <td>http://sharkattackfile.net/spreadsheets/pdf_di...</td>\n",
       "      <td>http://sharkattackfile.net/spreadsheets/pdf_di...</td>\n",
       "      <td>2018.06.09</td>\n",
       "      <td>2018.06.09</td>\n",
       "      <td>6301.0</td>\n",
       "      <td>NaN</td>\n",
       "      <td>NaN</td>\n",
       "    </tr>\n",
       "    <tr>\n",
       "      <th>3</th>\n",
       "      <td>2018.06.08</td>\n",
       "      <td>08-Jun-2018</td>\n",
       "      <td>2018.0</td>\n",
       "      <td>Unprovoked</td>\n",
       "      <td>AUSTRALIA</td>\n",
       "      <td>New South Wales</td>\n",
       "      <td>Arrawarra Headland</td>\n",
       "      <td>Surfing</td>\n",
       "      <td>male</td>\n",
       "      <td>M</td>\n",
       "      <td>NaN</td>\n",
       "      <td>Minor injury to lower leg</td>\n",
       "      <td>N</td>\n",
       "      <td>NaN</td>\n",
       "      <td>2 m shark</td>\n",
       "      <td>B. Myatt, GSAF</td>\n",
       "      <td>2018.06.08-Arrawarra.pdf</td>\n",
       "      <td>http://sharkattackfile.net/spreadsheets/pdf_di...</td>\n",
       "      <td>http://sharkattackfile.net/spreadsheets/pdf_di...</td>\n",
       "      <td>2018.06.08</td>\n",
       "      <td>2018.06.08</td>\n",
       "      <td>6300.0</td>\n",
       "      <td>NaN</td>\n",
       "      <td>NaN</td>\n",
       "    </tr>\n",
       "    <tr>\n",
       "      <th>4</th>\n",
       "      <td>2018.06.04</td>\n",
       "      <td>04-Jun-2018</td>\n",
       "      <td>2018.0</td>\n",
       "      <td>Provoked</td>\n",
       "      <td>MEXICO</td>\n",
       "      <td>Colima</td>\n",
       "      <td>La Ticla</td>\n",
       "      <td>Free diving</td>\n",
       "      <td>Gustavo Ramos</td>\n",
       "      <td>M</td>\n",
       "      <td>NaN</td>\n",
       "      <td>Lacerations to leg &amp; hand shark PROVOKED INCIDENT</td>\n",
       "      <td>N</td>\n",
       "      <td>NaN</td>\n",
       "      <td>Tiger shark, 3m</td>\n",
       "      <td>A .Kipper</td>\n",
       "      <td>2018.06.04-Ramos.pdf</td>\n",
       "      <td>http://sharkattackfile.net/spreadsheets/pdf_di...</td>\n",
       "      <td>http://sharkattackfile.net/spreadsheets/pdf_di...</td>\n",
       "      <td>2018.06.04</td>\n",
       "      <td>2018.06.04</td>\n",
       "      <td>6299.0</td>\n",
       "      <td>NaN</td>\n",
       "      <td>NaN</td>\n",
       "    </tr>\n",
       "  </tbody>\n",
       "</table>\n",
       "</div>"
      ],
      "text/plain": [
       "  case-number1         date    Year  typeattack    country             area  \\\n",
       "0   2018.06.25  25-Jun-2018  2018.0     Boating        USA       California   \n",
       "1   2018.06.18  18-Jun-2018  2018.0  Unprovoked        USA          Georgia   \n",
       "2   2018.06.09  09-Jun-2018  2018.0     Invalid        USA           Hawaii   \n",
       "3   2018.06.08  08-Jun-2018  2018.0  Unprovoked  AUSTRALIA  New South Wales   \n",
       "4   2018.06.04  04-Jun-2018  2018.0    Provoked     MEXICO           Colima   \n",
       "\n",
       "                         location     activity             name sex  age  \\\n",
       "0     Oceanside, San Diego County     Paddling      Julie Wolfe   F   57   \n",
       "1  St. Simon Island, Glynn County     Standing  Adyson McNeely    F   11   \n",
       "2                    Habush, Oahu      Surfing      John Denges   M   48   \n",
       "3              Arrawarra Headland      Surfing             male   M  NaN   \n",
       "4                        La Ticla  Free diving   Gustavo Ramos    M  NaN   \n",
       "\n",
       "                                              injury fatality           time  \\\n",
       "0  No injury to occupant, outrigger canoe and pad...        N          18h00   \n",
       "1                         Minor injury to left thigh        N  14h00  -15h00   \n",
       "2       Injury to left lower leg from surfboard skeg        N          07h45   \n",
       "3                          Minor injury to lower leg        N            NaN   \n",
       "4  Lacerations to leg & hand shark PROVOKED INCIDENT        N            NaN   \n",
       "\n",
       "           species                          source                       pdf  \\\n",
       "0      White shark                R. Collier, GSAF      2018.06.25-Wolfe.pdf   \n",
       "1              NaN  K.McMurray, TrackingSharks.com    2018.06.18-McNeely.pdf   \n",
       "2              NaN  K.McMurray, TrackingSharks.com     2018.06.09-Denges.pdf   \n",
       "3        2 m shark                  B. Myatt, GSAF  2018.06.08-Arrawarra.pdf   \n",
       "4  Tiger shark, 3m                       A .Kipper      2018.06.04-Ramos.pdf   \n",
       "\n",
       "                                               url-1  \\\n",
       "0  http://sharkattackfile.net/spreadsheets/pdf_di...   \n",
       "1  http://sharkattackfile.net/spreadsheets/pdf_di...   \n",
       "2  http://sharkattackfile.net/spreadsheets/pdf_di...   \n",
       "3  http://sharkattackfile.net/spreadsheets/pdf_di...   \n",
       "4  http://sharkattackfile.net/spreadsheets/pdf_di...   \n",
       "\n",
       "                                               url-2 case-number2  \\\n",
       "0  http://sharkattackfile.net/spreadsheets/pdf_di...   2018.06.25   \n",
       "1  http://sharkattackfile.net/spreadsheets/pdf_di...   2018.06.18   \n",
       "2  http://sharkattackfile.net/spreadsheets/pdf_di...   2018.06.09   \n",
       "3  http://sharkattackfile.net/spreadsheets/pdf_di...   2018.06.08   \n",
       "4  http://sharkattackfile.net/spreadsheets/pdf_di...   2018.06.04   \n",
       "\n",
       "  case-number3  original-order empty1 empty2  \n",
       "0   2018.06.25          6303.0    NaN    NaN  \n",
       "1   2018.06.18          6302.0    NaN    NaN  \n",
       "2   2018.06.09          6301.0    NaN    NaN  \n",
       "3   2018.06.08          6300.0    NaN    NaN  \n",
       "4   2018.06.04          6299.0    NaN    NaN  "
      ]
     },
     "execution_count": 22,
     "metadata": {},
     "output_type": "execute_result"
    }
   ],
   "source": [
    "df.head()"
   ]
  },
  {
   "cell_type": "code",
   "execution_count": 23,
   "metadata": {},
   "outputs": [
    {
     "data": {
      "text/plain": [
       "(6312, 24)"
      ]
     },
     "execution_count": 23,
     "metadata": {},
     "output_type": "execute_result"
    }
   ],
   "source": [
    "df.shape"
   ]
  },
  {
   "cell_type": "code",
   "execution_count": 24,
   "metadata": {},
   "outputs": [
    {
     "name": "stdout",
     "output_type": "stream",
     "text": [
      "<class 'pandas.core.frame.DataFrame'>\n",
      "Int64Index: 6312 entries, 0 to 25722\n",
      "Data columns (total 24 columns):\n",
      " #   Column          Non-Null Count  Dtype  \n",
      "---  ------          --------------  -----  \n",
      " 0   case-number1    6310 non-null   object \n",
      " 1   date            6302 non-null   object \n",
      " 2   Year            6300 non-null   float64\n",
      " 3   typeattack      6298 non-null   object \n",
      " 4   country         6252 non-null   object \n",
      " 5   area            5847 non-null   object \n",
      " 6   location        5762 non-null   object \n",
      " 7   activity        5758 non-null   object \n",
      " 8   name            6092 non-null   object \n",
      " 9   sex             5737 non-null   object \n",
      " 10  age             3471 non-null   object \n",
      " 11  injury          6274 non-null   object \n",
      " 12  fatality        5763 non-null   object \n",
      " 13  time            2948 non-null   object \n",
      " 14  species         3464 non-null   object \n",
      " 15  source          6285 non-null   object \n",
      " 16  pdf             6302 non-null   object \n",
      " 17  url-1           6301 non-null   object \n",
      " 18  url-2           6302 non-null   object \n",
      " 19  case-number2    6302 non-null   object \n",
      " 20  case-number3    6302 non-null   object \n",
      " 21  original-order  6309 non-null   float64\n",
      " 22  empty1          1 non-null      object \n",
      " 23  empty2          2 non-null      object \n",
      "dtypes: float64(2), object(22)\n",
      "memory usage: 1.2+ MB\n"
     ]
    }
   ],
   "source": [
    "df.info('deep')"
   ]
  },
  {
   "cell_type": "code",
   "execution_count": 25,
   "metadata": {},
   "outputs": [
    {
     "data": {
      "text/plain": [
       "Index(['Year', 'original-order'], dtype='object')"
      ]
     },
     "execution_count": 25,
     "metadata": {},
     "output_type": "execute_result"
    }
   ],
   "source": [
    "num_df = df.select_dtypes(exclude='object')\n",
    "\n",
    "num_df.columns"
   ]
  },
  {
   "cell_type": "markdown",
   "metadata": {},
   "source": [
    "# Eliminamos duplicados"
   ]
  },
  {
   "cell_type": "code",
   "execution_count": 26,
   "metadata": {},
   "outputs": [],
   "source": [
    "#eliminamos duplicados\n",
    "\n",
    "df= df.drop_duplicates()"
   ]
  },
  {
   "cell_type": "code",
   "execution_count": 27,
   "metadata": {},
   "outputs": [
    {
     "data": {
      "text/plain": [
       "(6312, 24)"
      ]
     },
     "execution_count": 27,
     "metadata": {},
     "output_type": "execute_result"
    }
   ],
   "source": [
    "df.shape\n"
   ]
  },
  {
   "cell_type": "markdown",
   "metadata": {},
   "source": [
    "# REVISAMOS COLUMNAS CON VALORES 0 - VACIOS PARA LUEGO CVER QUE PODEMOS HACER."
   ]
  },
  {
   "cell_type": "code",
   "execution_count": 28,
   "metadata": {},
   "outputs": [
    {
     "data": {
      "text/plain": [
       "case-number1         2\n",
       "date                10\n",
       "Year                12\n",
       "typeattack          14\n",
       "country             60\n",
       "area               465\n",
       "location           550\n",
       "activity           554\n",
       "name               220\n",
       "sex                575\n",
       "age               2841\n",
       "injury              38\n",
       "fatality           549\n",
       "time              3364\n",
       "species           2848\n",
       "source              27\n",
       "pdf                 10\n",
       "url-1               11\n",
       "url-2               10\n",
       "case-number2        10\n",
       "case-number3        10\n",
       "original-order       3\n",
       "empty1            6311\n",
       "empty2            6310\n",
       "dtype: int64"
      ]
     },
     "execution_count": 28,
     "metadata": {},
     "output_type": "execute_result"
    }
   ],
   "source": [
    "nan_cols = df.isna().sum()\n",
    "nan_cols[nan_cols>0]\n"
   ]
  },
  {
   "cell_type": "markdown",
   "metadata": {},
   "source": [
    "# LIMPIEZA DATE"
   ]
  },
  {
   "cell_type": "code",
   "execution_count": 29,
   "metadata": {},
   "outputs": [
    {
     "data": {
      "text/plain": [
       "array(['25-Jun-2018', '18-Jun-2018', '09-Jun-2018', ..., '1883-1889',\n",
       "       '1845-1853', nan], dtype=object)"
      ]
     },
     "execution_count": 29,
     "metadata": {},
     "output_type": "execute_result"
    }
   ],
   "source": [
    "#VAMOS A ELIMINAR EN LA COLUMNA DATA LA PALABRA REPORTED PARA HOMOGENIZAR LA COLUMNA\n",
    "\n",
    "df.date.unique()"
   ]
  },
  {
   "cell_type": "markdown",
   "metadata": {},
   "source": [
    "### Probamos el Replace"
   ]
  },
  {
   "cell_type": "code",
   "execution_count": 31,
   "metadata": {},
   "outputs": [],
   "source": [
    "#AQUI HAGO EL REPLACE DE REPORTED -\n",
    "\n",
    "df['date'] = df['date'].str.replace('Reported','')"
   ]
  },
  {
   "cell_type": "code",
   "execution_count": 32,
   "metadata": {},
   "outputs": [
    {
     "data": {
      "text/plain": [
       "Series([], Name: date, dtype: object)"
      ]
     },
     "execution_count": 32,
     "metadata": {},
     "output_type": "execute_result"
    }
   ],
   "source": [
    "df.date[df.date == 'Reported']"
   ]
  },
  {
   "cell_type": "code",
   "execution_count": 33,
   "metadata": {},
   "outputs": [
    {
     "data": {
      "text/plain": [
       "1957                  11\n",
       "1942                   9\n",
       "1956                   8\n",
       "1958                   7\n",
       "1941                   7\n",
       "                      ..\n",
       "25-Nov-1994            1\n",
       "01-Dec-1994            1\n",
       "      10-Dec-1994      1\n",
       "11-Dec-1994            1\n",
       "1845-1853              1\n",
       "Name: date, Length: 5432, dtype: int64"
      ]
     },
     "execution_count": 33,
     "metadata": {},
     "output_type": "execute_result"
    }
   ],
   "source": [
    "df.date.value_counts()"
   ]
  },
  {
   "cell_type": "code",
   "execution_count": 37,
   "metadata": {},
   "outputs": [
    {
     "ename": "ValueError",
     "evalue": "Cannot mask with non-boolean array containing NA / NaN values",
     "output_type": "error",
     "traceback": [
      "\u001b[0;31m---------------------------------------------------------------------------\u001b[0m",
      "\u001b[0;31mValueError\u001b[0m                                Traceback (most recent call last)",
      "\u001b[1;32m/Users/jaimemac/Documents/Github Access/Ejercicios-semana-2/proyecto-sharks/proyecto1-sharks-/proyectosharks_main-1.ipynb Celda 23\u001b[0m in \u001b[0;36m<cell line: 5>\u001b[0;34m()\u001b[0m\n\u001b[1;32m      <a href='vscode-notebook-cell:/Users/jaimemac/Documents/Github%20Access/Ejercicios-semana-2/proyecto-sharks/proyecto1-sharks-/proyectosharks_main-1.ipynb#X16sZmlsZQ%3D%3D?line=0'>1</a>\u001b[0m \u001b[39m#VAMOS A VER SI ENCONTRAMOS LA REPORTED DENTRO DE LA COLUMNA DATE. PARA ENTENDER SI LA HEMOS REEMPLAZADO. Parece que si.\u001b[39;00m\n\u001b[1;32m      <a href='vscode-notebook-cell:/Users/jaimemac/Documents/Github%20Access/Ejercicios-semana-2/proyecto-sharks/proyecto1-sharks-/proyectosharks_main-1.ipynb#X16sZmlsZQ%3D%3D?line=2'>3</a>\u001b[0m key_word \u001b[39m=\u001b[39m \u001b[39m'\u001b[39m\u001b[39mReported\u001b[39m\u001b[39m'\u001b[39m\n\u001b[0;32m----> <a href='vscode-notebook-cell:/Users/jaimemac/Documents/Github%20Access/Ejercicios-semana-2/proyecto-sharks/proyecto1-sharks-/proyectosharks_main-1.ipynb#X16sZmlsZQ%3D%3D?line=4'>5</a>\u001b[0m find \u001b[39m=\u001b[39m df\u001b[39m.\u001b[39;49mdate[df\u001b[39m.\u001b[39;49mdate\u001b[39m.\u001b[39;49mstr\u001b[39m.\u001b[39;49mcontains(key_word)]\n\u001b[1;32m      <a href='vscode-notebook-cell:/Users/jaimemac/Documents/Github%20Access/Ejercicios-semana-2/proyecto-sharks/proyecto1-sharks-/proyectosharks_main-1.ipynb#X16sZmlsZQ%3D%3D?line=6'>7</a>\u001b[0m find\n",
      "File \u001b[0;32m/Library/Frameworks/Python.framework/Versions/3.10/lib/python3.10/site-packages/pandas/core/series.py:979\u001b[0m, in \u001b[0;36mSeries.__getitem__\u001b[0;34m(self, key)\u001b[0m\n\u001b[1;32m    976\u001b[0m \u001b[39mif\u001b[39;00m is_iterator(key):\n\u001b[1;32m    977\u001b[0m     key \u001b[39m=\u001b[39m \u001b[39mlist\u001b[39m(key)\n\u001b[0;32m--> 979\u001b[0m \u001b[39mif\u001b[39;00m com\u001b[39m.\u001b[39;49mis_bool_indexer(key):\n\u001b[1;32m    980\u001b[0m     key \u001b[39m=\u001b[39m check_bool_indexer(\u001b[39mself\u001b[39m\u001b[39m.\u001b[39mindex, key)\n\u001b[1;32m    981\u001b[0m     key \u001b[39m=\u001b[39m np\u001b[39m.\u001b[39masarray(key, dtype\u001b[39m=\u001b[39m\u001b[39mbool\u001b[39m)\n",
      "File \u001b[0;32m/Library/Frameworks/Python.framework/Versions/3.10/lib/python3.10/site-packages/pandas/core/common.py:144\u001b[0m, in \u001b[0;36mis_bool_indexer\u001b[0;34m(key)\u001b[0m\n\u001b[1;32m    140\u001b[0m     na_msg \u001b[39m=\u001b[39m \u001b[39m\"\u001b[39m\u001b[39mCannot mask with non-boolean array containing NA / NaN values\u001b[39m\u001b[39m\"\u001b[39m\n\u001b[1;32m    141\u001b[0m     \u001b[39mif\u001b[39;00m lib\u001b[39m.\u001b[39minfer_dtype(key) \u001b[39m==\u001b[39m \u001b[39m\"\u001b[39m\u001b[39mboolean\u001b[39m\u001b[39m\"\u001b[39m \u001b[39mand\u001b[39;00m isna(key)\u001b[39m.\u001b[39many():\n\u001b[1;32m    142\u001b[0m         \u001b[39m# Don't raise on e.g. [\"A\", \"B\", np.nan], see\u001b[39;00m\n\u001b[1;32m    143\u001b[0m         \u001b[39m#  test_loc_getitem_list_of_labels_categoricalindex_with_na\u001b[39;00m\n\u001b[0;32m--> 144\u001b[0m         \u001b[39mraise\u001b[39;00m \u001b[39mValueError\u001b[39;00m(na_msg)\n\u001b[1;32m    145\u001b[0m     \u001b[39mreturn\u001b[39;00m \u001b[39mFalse\u001b[39;00m\n\u001b[1;32m    146\u001b[0m \u001b[39mreturn\u001b[39;00m \u001b[39mTrue\u001b[39;00m\n",
      "\u001b[0;31mValueError\u001b[0m: Cannot mask with non-boolean array containing NA / NaN values"
     ]
    }
   ],
   "source": [
    "#VAMOS A VER SI ENCONTRAMOS LA REPORTED DENTRO DE LA COLUMNA DATE. PARA ENTENDER SI LA HEMOS REEMPLAZADO. Parece que si.\n",
    "\n",
    "key_word = 'Reported'\n",
    "\n",
    "find = df.date[df.date.str.contains(key_word)]\n",
    "\n",
    "find"
   ]
  },
  {
   "cell_type": "code",
   "execution_count": 36,
   "metadata": {},
   "outputs": [
    {
     "data": {
      "text/html": [
       "<div>\n",
       "<style scoped>\n",
       "    .dataframe tbody tr th:only-of-type {\n",
       "        vertical-align: middle;\n",
       "    }\n",
       "\n",
       "    .dataframe tbody tr th {\n",
       "        vertical-align: top;\n",
       "    }\n",
       "\n",
       "    .dataframe thead th {\n",
       "        text-align: right;\n",
       "    }\n",
       "</style>\n",
       "<table border=\"1\" class=\"dataframe\">\n",
       "  <thead>\n",
       "    <tr style=\"text-align: right;\">\n",
       "      <th></th>\n",
       "      <th>case-number1</th>\n",
       "      <th>date</th>\n",
       "      <th>Year</th>\n",
       "      <th>typeattack</th>\n",
       "      <th>country</th>\n",
       "      <th>area</th>\n",
       "      <th>location</th>\n",
       "      <th>activity</th>\n",
       "      <th>name</th>\n",
       "      <th>sex</th>\n",
       "      <th>age</th>\n",
       "      <th>injury</th>\n",
       "      <th>fatality</th>\n",
       "      <th>time</th>\n",
       "      <th>species</th>\n",
       "      <th>source</th>\n",
       "      <th>pdf</th>\n",
       "      <th>url-1</th>\n",
       "      <th>url-2</th>\n",
       "      <th>case-number2</th>\n",
       "      <th>case-number3</th>\n",
       "      <th>original-order</th>\n",
       "      <th>empty1</th>\n",
       "      <th>empty2</th>\n",
       "    </tr>\n",
       "  </thead>\n",
       "  <tbody>\n",
       "  </tbody>\n",
       "</table>\n",
       "</div>"
      ],
      "text/plain": [
       "Empty DataFrame\n",
       "Columns: [case-number1, date, Year, typeattack, country, area, location, activity, name, sex, age, injury, fatality, time, species, source, pdf, url-1, url-2, case-number2, case-number3, original-order, empty1, empty2]\n",
       "Index: []"
      ]
     },
     "execution_count": 36,
     "metadata": {},
     "output_type": "execute_result"
    }
   ],
   "source": [
    "#REVISO SI SIGUE EXISTIENDO Y PARECE QUE YA HA HECHO EL REPLACE. Iguamente esta columna tiene muchas filas que podrian ser homogenizadas, sin embargo\n",
    "#de primeras pienso que no es necesario complicarse con un dato en parte irrelevante, ya que el dia es demasiado puntual y no hay posible forma de\n",
    "#correcionarlo con otros datos. pero si interesa el mes a ser posible por lo que aplicaré un bonito regex.\n",
    "\n",
    "filtered = df[(df['date']=='Reported')]\n",
    "filtered.head()"
   ]
  },
  {
   "cell_type": "markdown",
   "metadata": {},
   "source": [
    "# REGEX: date"
   ]
  },
  {
   "cell_type": "code",
   "execution_count": 38,
   "metadata": {},
   "outputs": [
    {
     "ename": "ValueError",
     "evalue": "Cannot mask with non-boolean array containing NA / NaN values",
     "output_type": "error",
     "traceback": [
      "\u001b[0;31m---------------------------------------------------------------------------\u001b[0m",
      "\u001b[0;31mValueError\u001b[0m                                Traceback (most recent call last)",
      "\u001b[1;32m/Users/jaimemac/Documents/Github Access/Ejercicios-semana-2/proyecto-sharks/proyecto1-sharks-/proyectosharks_main-1.ipynb Celda 26\u001b[0m in \u001b[0;36m<cell line: 5>\u001b[0;34m()\u001b[0m\n\u001b[1;32m      <a href='vscode-notebook-cell:/Users/jaimemac/Documents/Github%20Access/Ejercicios-semana-2/proyecto-sharks/proyecto1-sharks-/proyectosharks_main-1.ipynb#Y111sZmlsZQ%3D%3D?line=0'>1</a>\u001b[0m \u001b[39m# encuentra 5241 valores que cumplen el regex de unos 5748 totales\u001b[39;00m\n\u001b[1;32m      <a href='vscode-notebook-cell:/Users/jaimemac/Documents/Github%20Access/Ejercicios-semana-2/proyecto-sharks/proyecto1-sharks-/proyectosharks_main-1.ipynb#Y111sZmlsZQ%3D%3D?line=2'>3</a>\u001b[0m key_word \u001b[39m=\u001b[39m \u001b[39m'\u001b[39m\u001b[39m\\\u001b[39m\u001b[39mw\u001b[39m\u001b[39m{3}\u001b[39;00m\u001b[39m[-]\u001b[39m\u001b[39m\\\u001b[39m\u001b[39md\u001b[39m\u001b[39m{4}\u001b[39;00m\u001b[39m'\u001b[39m\n\u001b[0;32m----> <a href='vscode-notebook-cell:/Users/jaimemac/Documents/Github%20Access/Ejercicios-semana-2/proyecto-sharks/proyecto1-sharks-/proyectosharks_main-1.ipynb#Y111sZmlsZQ%3D%3D?line=4'>5</a>\u001b[0m find \u001b[39m=\u001b[39m df[df\u001b[39m.\u001b[39;49mdate\u001b[39m.\u001b[39;49mstr\u001b[39m.\u001b[39;49mcontains(key_word, regex\u001b[39m=\u001b[39;49m\u001b[39mTrue\u001b[39;49;00m)]\n\u001b[1;32m      <a href='vscode-notebook-cell:/Users/jaimemac/Documents/Github%20Access/Ejercicios-semana-2/proyecto-sharks/proyecto1-sharks-/proyectosharks_main-1.ipynb#Y111sZmlsZQ%3D%3D?line=6'>7</a>\u001b[0m \u001b[39mlen\u001b[39m(find)\n",
      "File \u001b[0;32m/Library/Frameworks/Python.framework/Versions/3.10/lib/python3.10/site-packages/pandas/core/frame.py:3495\u001b[0m, in \u001b[0;36mDataFrame.__getitem__\u001b[0;34m(self, key)\u001b[0m\n\u001b[1;32m   3492\u001b[0m     \u001b[39mreturn\u001b[39;00m \u001b[39mself\u001b[39m\u001b[39m.\u001b[39mwhere(key)\n\u001b[1;32m   3494\u001b[0m \u001b[39m# Do we have a (boolean) 1d indexer?\u001b[39;00m\n\u001b[0;32m-> 3495\u001b[0m \u001b[39mif\u001b[39;00m com\u001b[39m.\u001b[39;49mis_bool_indexer(key):\n\u001b[1;32m   3496\u001b[0m     \u001b[39mreturn\u001b[39;00m \u001b[39mself\u001b[39m\u001b[39m.\u001b[39m_getitem_bool_array(key)\n\u001b[1;32m   3498\u001b[0m \u001b[39m# We are left with two options: a single key, and a collection of keys,\u001b[39;00m\n\u001b[1;32m   3499\u001b[0m \u001b[39m# We interpret tuples as collections only for non-MultiIndex\u001b[39;00m\n",
      "File \u001b[0;32m/Library/Frameworks/Python.framework/Versions/3.10/lib/python3.10/site-packages/pandas/core/common.py:144\u001b[0m, in \u001b[0;36mis_bool_indexer\u001b[0;34m(key)\u001b[0m\n\u001b[1;32m    140\u001b[0m     na_msg \u001b[39m=\u001b[39m \u001b[39m\"\u001b[39m\u001b[39mCannot mask with non-boolean array containing NA / NaN values\u001b[39m\u001b[39m\"\u001b[39m\n\u001b[1;32m    141\u001b[0m     \u001b[39mif\u001b[39;00m lib\u001b[39m.\u001b[39minfer_dtype(key) \u001b[39m==\u001b[39m \u001b[39m\"\u001b[39m\u001b[39mboolean\u001b[39m\u001b[39m\"\u001b[39m \u001b[39mand\u001b[39;00m isna(key)\u001b[39m.\u001b[39many():\n\u001b[1;32m    142\u001b[0m         \u001b[39m# Don't raise on e.g. [\"A\", \"B\", np.nan], see\u001b[39;00m\n\u001b[1;32m    143\u001b[0m         \u001b[39m#  test_loc_getitem_list_of_labels_categoricalindex_with_na\u001b[39;00m\n\u001b[0;32m--> 144\u001b[0m         \u001b[39mraise\u001b[39;00m \u001b[39mValueError\u001b[39;00m(na_msg)\n\u001b[1;32m    145\u001b[0m     \u001b[39mreturn\u001b[39;00m \u001b[39mFalse\u001b[39;00m\n\u001b[1;32m    146\u001b[0m \u001b[39mreturn\u001b[39;00m \u001b[39mTrue\u001b[39;00m\n",
      "\u001b[0;31mValueError\u001b[0m: Cannot mask with non-boolean array containing NA / NaN values"
     ]
    }
   ],
   "source": [
    "# encuentra 5241 valores que cumplen el regex de unos 5748 totales\n",
    "\n",
    "key_word = '\\w{3}[-]\\d{4}'\n",
    "\n",
    "find = df[df.date.str.contains(key_word, regex=True)]\n",
    "\n",
    "len(find)"
   ]
  },
  {
   "cell_type": "code",
   "execution_count": null,
   "metadata": {},
   "outputs": [],
   "source": [
    "# siguiente paso droppear las filas que no cumplen el regex\n",
    "\n",
    "key_word = '\\w{3}[-]\\d{4}'\n",
    "\n",
    "# df1 = df[~(df['date'] == key_word)].index \n",
    "df.drop(df1, inplace = True)\n",
    "print(df)\n",
    "\n"
   ]
  },
  {
   "cell_type": "markdown",
   "metadata": {},
   "source": [
    "--------"
   ]
  },
  {
   "cell_type": "markdown",
   "metadata": {},
   "source": [
    "#  TYPE ATTACK"
   ]
  },
  {
   "cell_type": "code",
   "execution_count": 39,
   "metadata": {},
   "outputs": [
    {
     "data": {
      "text/plain": [
       "array(['Boating', 'Unprovoked', 'Invalid', 'Provoked', 'Questionable',\n",
       "       'Sea Disaster', nan, 'Boat', 'Boatomg'], dtype=object)"
      ]
     },
     "execution_count": 39,
     "metadata": {},
     "output_type": "execute_result"
    }
   ],
   "source": [
    "df.typeattack.unique()"
   ]
  },
  {
   "cell_type": "code",
   "execution_count": 40,
   "metadata": {},
   "outputs": [
    {
     "data": {
      "text/plain": [
       "Unprovoked      4595\n",
       "Provoked         574\n",
       "Invalid          547\n",
       "Sea Disaster     239\n",
       "Boating          203\n",
       "Boat             137\n",
       "Questionable       2\n",
       "Boatomg            1\n",
       "Name: typeattack, dtype: int64"
      ]
     },
     "execution_count": 40,
     "metadata": {},
     "output_type": "execute_result"
    }
   ],
   "source": [
    "df.typeattack.value_counts()"
   ]
  },
  {
   "cell_type": "code",
   "execution_count": 41,
   "metadata": {},
   "outputs": [],
   "source": [
    "#df.Type.fillna('unknown', inplace=True)"
   ]
  },
  {
   "cell_type": "code",
   "execution_count": 42,
   "metadata": {},
   "outputs": [],
   "source": [
    "#aqui encontraremos los valores en la columna type -invalid- para eliminar todas las filas que lo contengan. Parece no funcionar hasta que ocupe los nulos\n",
    "#con unknown o otro dato, existen 574 valores \"invalid\" y 2 \"Questionable\" y unos 14 vacios que vamos a llamar \"unknonw \" y dropearlos.\n",
    "\n",
    "df.typeattack.fillna('unknown', inplace=True)\n"
   ]
  },
  {
   "cell_type": "code",
   "execution_count": 43,
   "metadata": {},
   "outputs": [
    {
     "data": {
      "text/html": [
       "<div>\n",
       "<style scoped>\n",
       "    .dataframe tbody tr th:only-of-type {\n",
       "        vertical-align: middle;\n",
       "    }\n",
       "\n",
       "    .dataframe tbody tr th {\n",
       "        vertical-align: top;\n",
       "    }\n",
       "\n",
       "    .dataframe thead th {\n",
       "        text-align: right;\n",
       "    }\n",
       "</style>\n",
       "<table border=\"1\" class=\"dataframe\">\n",
       "  <thead>\n",
       "    <tr style=\"text-align: right;\">\n",
       "      <th></th>\n",
       "      <th>case-number1</th>\n",
       "      <th>date</th>\n",
       "      <th>Year</th>\n",
       "      <th>typeattack</th>\n",
       "      <th>country</th>\n",
       "      <th>area</th>\n",
       "      <th>location</th>\n",
       "      <th>activity</th>\n",
       "      <th>name</th>\n",
       "      <th>sex</th>\n",
       "      <th>age</th>\n",
       "      <th>injury</th>\n",
       "      <th>fatality</th>\n",
       "      <th>time</th>\n",
       "      <th>species</th>\n",
       "      <th>source</th>\n",
       "      <th>pdf</th>\n",
       "      <th>url-1</th>\n",
       "      <th>url-2</th>\n",
       "      <th>case-number2</th>\n",
       "      <th>case-number3</th>\n",
       "      <th>original-order</th>\n",
       "      <th>empty1</th>\n",
       "      <th>empty2</th>\n",
       "    </tr>\n",
       "  </thead>\n",
       "  <tbody>\n",
       "    <tr>\n",
       "      <th>2</th>\n",
       "      <td>2018.06.09</td>\n",
       "      <td>09-Jun-2018</td>\n",
       "      <td>2018.0</td>\n",
       "      <td>Invalid</td>\n",
       "      <td>USA</td>\n",
       "      <td>Hawaii</td>\n",
       "      <td>Habush, Oahu</td>\n",
       "      <td>Surfing</td>\n",
       "      <td>John Denges</td>\n",
       "      <td>M</td>\n",
       "      <td>48</td>\n",
       "      <td>Injury to left lower leg from surfboard skeg</td>\n",
       "      <td>N</td>\n",
       "      <td>07h45</td>\n",
       "      <td>NaN</td>\n",
       "      <td>K.McMurray, TrackingSharks.com</td>\n",
       "      <td>2018.06.09-Denges.pdf</td>\n",
       "      <td>http://sharkattackfile.net/spreadsheets/pdf_di...</td>\n",
       "      <td>http://sharkattackfile.net/spreadsheets/pdf_di...</td>\n",
       "      <td>2018.06.09</td>\n",
       "      <td>2018.06.09</td>\n",
       "      <td>6301.0</td>\n",
       "      <td>NaN</td>\n",
       "      <td>NaN</td>\n",
       "    </tr>\n",
       "    <tr>\n",
       "      <th>13</th>\n",
       "      <td>2018.05.13.a</td>\n",
       "      <td>13-May-2018</td>\n",
       "      <td>2018.0</td>\n",
       "      <td>Invalid</td>\n",
       "      <td>ENGLAND</td>\n",
       "      <td>Cornwall</td>\n",
       "      <td>Off Land's End</td>\n",
       "      <td>Fishing</td>\n",
       "      <td>Max Berryman</td>\n",
       "      <td>M</td>\n",
       "      <td>21</td>\n",
       "      <td>Injured by teeth of a dead porbeagle shark he ...</td>\n",
       "      <td>N</td>\n",
       "      <td>08h15</td>\n",
       "      <td>Invalid incident</td>\n",
       "      <td>K. McMurray, TrackingSharks.com</td>\n",
       "      <td>2018.05.13.a-Berryman.pdf</td>\n",
       "      <td>http://sharkattackfile.net/spreadsheets/pdf_di...</td>\n",
       "      <td>http://sharkattackfile.net/spreadsheets/pdf_di...</td>\n",
       "      <td>2018.05.13.a</td>\n",
       "      <td>2018.05.13.a</td>\n",
       "      <td>6290.0</td>\n",
       "      <td>NaN</td>\n",
       "      <td>NaN</td>\n",
       "    </tr>\n",
       "    <tr>\n",
       "      <th>31</th>\n",
       "      <td>2018.04.10.R</td>\n",
       "      <td>10-Apr-2018</td>\n",
       "      <td>2018.0</td>\n",
       "      <td>Invalid</td>\n",
       "      <td>BRAZIL</td>\n",
       "      <td>Alagoas</td>\n",
       "      <td>Praia de Sauaçuhy, Maceió</td>\n",
       "      <td>Fishing</td>\n",
       "      <td>Josias Paz</td>\n",
       "      <td>M</td>\n",
       "      <td>56</td>\n",
       "      <td>Injury to ankle from marine animal trapped in ...</td>\n",
       "      <td>N</td>\n",
       "      <td>NaN</td>\n",
       "      <td>Shark involvement not confirmed</td>\n",
       "      <td>K. McMurray, TrackingSharks.com</td>\n",
       "      <td>2018.04.10.R-Paz.pdf</td>\n",
       "      <td>http://sharkattackfile.net/spreadsheets/pdf_di...</td>\n",
       "      <td>http://sharkattackfile.net/spreadsheets/pdf_di...</td>\n",
       "      <td>2018.04.10.R</td>\n",
       "      <td>2018.04.10.R</td>\n",
       "      <td>6272.0</td>\n",
       "      <td>NaN</td>\n",
       "      <td>NaN</td>\n",
       "    </tr>\n",
       "    <tr>\n",
       "      <th>43</th>\n",
       "      <td>2018.02.14</td>\n",
       "      <td>14-Feb-2018</td>\n",
       "      <td>2018.0</td>\n",
       "      <td>Invalid</td>\n",
       "      <td>AUSTRALIA</td>\n",
       "      <td>Queensland</td>\n",
       "      <td>Mooloolaba Beach</td>\n",
       "      <td>Swimming</td>\n",
       "      <td>Sharna Babd</td>\n",
       "      <td>F</td>\n",
       "      <td>NaN</td>\n",
       "      <td>Collision / No injury, no attack</td>\n",
       "      <td>N</td>\n",
       "      <td>18h00</td>\n",
       "      <td>Possibly a wobbegong</td>\n",
       "      <td>Sunshine Coast Daily, 2/15/2018</td>\n",
       "      <td>2018.02.14-Babd.pdf</td>\n",
       "      <td>http://sharkattackfile.net/spreadsheets/pdf_di...</td>\n",
       "      <td>http://sharkattackfile.net/spreadsheets/pdf_di...</td>\n",
       "      <td>2018.02.14</td>\n",
       "      <td>2018.02.14</td>\n",
       "      <td>6260.0</td>\n",
       "      <td>NaN</td>\n",
       "      <td>NaN</td>\n",
       "    </tr>\n",
       "    <tr>\n",
       "      <th>44</th>\n",
       "      <td>2018.02.11</td>\n",
       "      <td>11-Feb-2018</td>\n",
       "      <td>2018.0</td>\n",
       "      <td>Invalid</td>\n",
       "      <td>BRAZIL</td>\n",
       "      <td>Boi Island, Victoria</td>\n",
       "      <td>Espirito Santo</td>\n",
       "      <td>Cleaning fish</td>\n",
       "      <td>Rosalida Souza</td>\n",
       "      <td>F</td>\n",
       "      <td>46</td>\n",
       "      <td>Lacerations to 4 toes of right foot</td>\n",
       "      <td>N</td>\n",
       "      <td>NaN</td>\n",
       "      <td>Injury believed caused by an eel, not a shark</td>\n",
       "      <td>TrackingSharks.com</td>\n",
       "      <td>2018.02.11-Rosilda.pdf</td>\n",
       "      <td>http://sharkattackfile.net/spreadsheets/pdf_di...</td>\n",
       "      <td>http://sharkattackfile.net/spreadsheets/pdf_di...</td>\n",
       "      <td>2018.02.11</td>\n",
       "      <td>2018.02.11</td>\n",
       "      <td>6259.0</td>\n",
       "      <td>NaN</td>\n",
       "      <td>NaN</td>\n",
       "    </tr>\n",
       "    <tr>\n",
       "      <th>...</th>\n",
       "      <td>...</td>\n",
       "      <td>...</td>\n",
       "      <td>...</td>\n",
       "      <td>...</td>\n",
       "      <td>...</td>\n",
       "      <td>...</td>\n",
       "      <td>...</td>\n",
       "      <td>...</td>\n",
       "      <td>...</td>\n",
       "      <td>...</td>\n",
       "      <td>...</td>\n",
       "      <td>...</td>\n",
       "      <td>...</td>\n",
       "      <td>...</td>\n",
       "      <td>...</td>\n",
       "      <td>...</td>\n",
       "      <td>...</td>\n",
       "      <td>...</td>\n",
       "      <td>...</td>\n",
       "      <td>...</td>\n",
       "      <td>...</td>\n",
       "      <td>...</td>\n",
       "      <td>...</td>\n",
       "      <td>...</td>\n",
       "    </tr>\n",
       "    <tr>\n",
       "      <th>6147</th>\n",
       "      <td>1767.00.00</td>\n",
       "      <td>1767</td>\n",
       "      <td>1767.0</td>\n",
       "      <td>Invalid</td>\n",
       "      <td>FRANCE</td>\n",
       "      <td>Côte d'Azur</td>\n",
       "      <td>St. Tropez</td>\n",
       "      <td>Bathing</td>\n",
       "      <td>Samuel Matthews</td>\n",
       "      <td>M</td>\n",
       "      <td>NaN</td>\n",
       "      <td>Lacerations to arm &amp; leg</td>\n",
       "      <td>NaN</td>\n",
       "      <td>NaN</td>\n",
       "      <td>Description of shark does not ring true</td>\n",
       "      <td>NaN</td>\n",
       "      <td>1767.00.00-Matthews.pdf</td>\n",
       "      <td>http://sharkattackfile.net/spreadsheets/pdf_di...</td>\n",
       "      <td>http://sharkattackfile.net/spreadsheets/pdf_di...</td>\n",
       "      <td>1767.00.00</td>\n",
       "      <td>1767.00.00</td>\n",
       "      <td>156.0</td>\n",
       "      <td>NaN</td>\n",
       "      <td>NaN</td>\n",
       "    </tr>\n",
       "    <tr>\n",
       "      <th>6157</th>\n",
       "      <td>1733.00.00</td>\n",
       "      <td>1733</td>\n",
       "      <td>1733.0</td>\n",
       "      <td>Invalid</td>\n",
       "      <td>ICELAND</td>\n",
       "      <td>Bardestrand</td>\n",
       "      <td>Talkknefiord</td>\n",
       "      <td>NaN</td>\n",
       "      <td>NaN</td>\n",
       "      <td>NaN</td>\n",
       "      <td>NaN</td>\n",
       "      <td>Partial hominid remains recovered from shark, ...</td>\n",
       "      <td>NaN</td>\n",
       "      <td>NaN</td>\n",
       "      <td>Shark involvement prior to death unconfirmed</td>\n",
       "      <td>E. Olafsen</td>\n",
       "      <td>1733.00.00-Iceland.pdf</td>\n",
       "      <td>http://sharkattackfile.net/spreadsheets/pdf_di...</td>\n",
       "      <td>http://sharkattackfile.net/spreadsheets/pdf_di...</td>\n",
       "      <td>1733.00.00</td>\n",
       "      <td>1733.00.00</td>\n",
       "      <td>146.0</td>\n",
       "      <td>NaN</td>\n",
       "      <td>NaN</td>\n",
       "    </tr>\n",
       "    <tr>\n",
       "      <th>6164</th>\n",
       "      <td>1642.00.00.b</td>\n",
       "      <td>Late 1600s  1728</td>\n",
       "      <td>1642.0</td>\n",
       "      <td>Invalid</td>\n",
       "      <td>GUINEA</td>\n",
       "      <td>NaN</td>\n",
       "      <td>NaN</td>\n",
       "      <td>Went overboard</td>\n",
       "      <td>crew member of the Nieuwstadt</td>\n",
       "      <td>M</td>\n",
       "      <td>NaN</td>\n",
       "      <td>FATAL</td>\n",
       "      <td>NaN</td>\n",
       "      <td>NaN</td>\n",
       "      <td>Questionable</td>\n",
       "      <td>History of the Pyrates, by D. Defoe, Vol. 2, p.28</td>\n",
       "      <td>1642.00.00.b-Nieuwstadt.pdf</td>\n",
       "      <td>http://sharkattackfile.net/spreadsheets/pdf_di...</td>\n",
       "      <td>http://sharkattackfile.net/spreadsheets/pdf_di...</td>\n",
       "      <td>1642.00.00.b</td>\n",
       "      <td>1642.00.00.b</td>\n",
       "      <td>139.0</td>\n",
       "      <td>NaN</td>\n",
       "      <td>NaN</td>\n",
       "    </tr>\n",
       "    <tr>\n",
       "      <th>6227</th>\n",
       "      <td>ND.0086</td>\n",
       "      <td>No date, Before 1975</td>\n",
       "      <td>0.0</td>\n",
       "      <td>Invalid</td>\n",
       "      <td>PAPUA NEW GUINEA</td>\n",
       "      <td>Milne Bay  Province</td>\n",
       "      <td>D'Entrecasteaux islands, 20 miles off the coast</td>\n",
       "      <td>Scuba diving</td>\n",
       "      <td>Dan Hogan</td>\n",
       "      <td>M</td>\n",
       "      <td>NaN</td>\n",
       "      <td>Said to be fatal and involve a 4.6 m to 6 m [1...</td>\n",
       "      <td>Y</td>\n",
       "      <td>NaN</td>\n",
       "      <td>Questionable</td>\n",
       "      <td>F. Dennis, pp.15-16</td>\n",
       "      <td>ND-0086-DanHogan.pdf</td>\n",
       "      <td>http://sharkattackfile.net/spreadsheets/pdf_di...</td>\n",
       "      <td>http://sharkattackfile.net/spreadsheets/pdf_di...</td>\n",
       "      <td>ND.0086</td>\n",
       "      <td>ND.0086</td>\n",
       "      <td>76.0</td>\n",
       "      <td>NaN</td>\n",
       "      <td>NaN</td>\n",
       "    </tr>\n",
       "    <tr>\n",
       "      <th>6232</th>\n",
       "      <td>ND.0081</td>\n",
       "      <td>No date, Before 1963</td>\n",
       "      <td>0.0</td>\n",
       "      <td>Invalid</td>\n",
       "      <td>USA</td>\n",
       "      <td>Hawaii</td>\n",
       "      <td>Portlock, Oahu</td>\n",
       "      <td>Diving</td>\n",
       "      <td>Val Valentine</td>\n",
       "      <td>M</td>\n",
       "      <td>NaN</td>\n",
       "      <td>A 4.3 m [14'] shark made threat display. No in...</td>\n",
       "      <td>NaN</td>\n",
       "      <td>NaN</td>\n",
       "      <td>Invalid</td>\n",
       "      <td>B. Sojka &amp; D. Lloyd</td>\n",
       "      <td>ND-0081-Valentine.pdf</td>\n",
       "      <td>http://sharkattackfile.net/spreadsheets/pdf_di...</td>\n",
       "      <td>http://sharkattackfile.net/spreadsheets/pdf_di...</td>\n",
       "      <td>ND.0081</td>\n",
       "      <td>ND.0081</td>\n",
       "      <td>71.0</td>\n",
       "      <td>NaN</td>\n",
       "      <td>NaN</td>\n",
       "    </tr>\n",
       "  </tbody>\n",
       "</table>\n",
       "<p>547 rows × 24 columns</p>\n",
       "</div>"
      ],
      "text/plain": [
       "      case-number1                  date    Year typeattack           country  \\\n",
       "2       2018.06.09           09-Jun-2018  2018.0    Invalid               USA   \n",
       "13    2018.05.13.a           13-May-2018  2018.0    Invalid           ENGLAND   \n",
       "31    2018.04.10.R           10-Apr-2018  2018.0    Invalid            BRAZIL   \n",
       "43      2018.02.14           14-Feb-2018  2018.0    Invalid         AUSTRALIA   \n",
       "44      2018.02.11           11-Feb-2018  2018.0    Invalid            BRAZIL   \n",
       "...            ...                   ...     ...        ...               ...   \n",
       "6147    1767.00.00                  1767  1767.0    Invalid            FRANCE   \n",
       "6157    1733.00.00                  1733  1733.0    Invalid           ICELAND   \n",
       "6164  1642.00.00.b      Late 1600s  1728  1642.0    Invalid            GUINEA   \n",
       "6227       ND.0086  No date, Before 1975     0.0    Invalid  PAPUA NEW GUINEA   \n",
       "6232       ND.0081  No date, Before 1963     0.0    Invalid               USA   \n",
       "\n",
       "                      area                                          location  \\\n",
       "2                   Hawaii                                      Habush, Oahu   \n",
       "13                Cornwall                                    Off Land's End   \n",
       "31                 Alagoas                         Praia de Sauaçuhy, Maceió   \n",
       "43              Queensland                                  Mooloolaba Beach   \n",
       "44    Boi Island, Victoria                                    Espirito Santo   \n",
       "...                    ...                                               ...   \n",
       "6147          Côte d'Azur                                         St. Tropez   \n",
       "6157           Bardestrand                                      Talkknefiord   \n",
       "6164                   NaN                                               NaN   \n",
       "6227   Milne Bay  Province   D'Entrecasteaux islands, 20 miles off the coast   \n",
       "6232                Hawaii                                    Portlock, Oahu   \n",
       "\n",
       "            activity                           name  sex  age  \\\n",
       "2            Surfing                    John Denges    M   48   \n",
       "13           Fishing                   Max Berryman    M   21   \n",
       "31           Fishing                     Josias Paz    M   56   \n",
       "43          Swimming                    Sharna Babd    F  NaN   \n",
       "44     Cleaning fish                 Rosalida Souza    F   46   \n",
       "...              ...                            ...  ...  ...   \n",
       "6147         Bathing                Samuel Matthews    M  NaN   \n",
       "6157             NaN                            NaN  NaN  NaN   \n",
       "6164  Went overboard  crew member of the Nieuwstadt    M  NaN   \n",
       "6227    Scuba diving                      Dan Hogan    M  NaN   \n",
       "6232          Diving                  Val Valentine    M  NaN   \n",
       "\n",
       "                                                 injury fatality   time  \\\n",
       "2          Injury to left lower leg from surfboard skeg        N  07h45   \n",
       "13    Injured by teeth of a dead porbeagle shark he ...        N  08h15   \n",
       "31    Injury to ankle from marine animal trapped in ...        N    NaN   \n",
       "43                     Collision / No injury, no attack        N  18h00   \n",
       "44                  Lacerations to 4 toes of right foot        N    NaN   \n",
       "...                                                 ...      ...    ...   \n",
       "6147                           Lacerations to arm & leg      NaN    NaN   \n",
       "6157  Partial hominid remains recovered from shark, ...      NaN    NaN   \n",
       "6164                                              FATAL      NaN    NaN   \n",
       "6227  Said to be fatal and involve a 4.6 m to 6 m [1...        Y    NaN   \n",
       "6232  A 4.3 m [14'] shark made threat display. No in...      NaN    NaN   \n",
       "\n",
       "                                            species  \\\n",
       "2                                               NaN   \n",
       "13                                 Invalid incident   \n",
       "31                  Shark involvement not confirmed   \n",
       "43                             Possibly a wobbegong   \n",
       "44    Injury believed caused by an eel, not a shark   \n",
       "...                                             ...   \n",
       "6147        Description of shark does not ring true   \n",
       "6157   Shark involvement prior to death unconfirmed   \n",
       "6164                                   Questionable   \n",
       "6227                                   Questionable   \n",
       "6232                                        Invalid   \n",
       "\n",
       "                                                 source  \\\n",
       "2                        K.McMurray, TrackingSharks.com   \n",
       "13                      K. McMurray, TrackingSharks.com   \n",
       "31                      K. McMurray, TrackingSharks.com   \n",
       "43                      Sunshine Coast Daily, 2/15/2018   \n",
       "44                                   TrackingSharks.com   \n",
       "...                                                 ...   \n",
       "6147                                                NaN   \n",
       "6157                                         E. Olafsen   \n",
       "6164  History of the Pyrates, by D. Defoe, Vol. 2, p.28   \n",
       "6227                                F. Dennis, pp.15-16   \n",
       "6232                                B. Sojka & D. Lloyd   \n",
       "\n",
       "                              pdf  \\\n",
       "2           2018.06.09-Denges.pdf   \n",
       "13      2018.05.13.a-Berryman.pdf   \n",
       "31           2018.04.10.R-Paz.pdf   \n",
       "43            2018.02.14-Babd.pdf   \n",
       "44         2018.02.11-Rosilda.pdf   \n",
       "...                           ...   \n",
       "6147      1767.00.00-Matthews.pdf   \n",
       "6157       1733.00.00-Iceland.pdf   \n",
       "6164  1642.00.00.b-Nieuwstadt.pdf   \n",
       "6227         ND-0086-DanHogan.pdf   \n",
       "6232        ND-0081-Valentine.pdf   \n",
       "\n",
       "                                                  url-1  \\\n",
       "2     http://sharkattackfile.net/spreadsheets/pdf_di...   \n",
       "13    http://sharkattackfile.net/spreadsheets/pdf_di...   \n",
       "31    http://sharkattackfile.net/spreadsheets/pdf_di...   \n",
       "43    http://sharkattackfile.net/spreadsheets/pdf_di...   \n",
       "44    http://sharkattackfile.net/spreadsheets/pdf_di...   \n",
       "...                                                 ...   \n",
       "6147  http://sharkattackfile.net/spreadsheets/pdf_di...   \n",
       "6157  http://sharkattackfile.net/spreadsheets/pdf_di...   \n",
       "6164  http://sharkattackfile.net/spreadsheets/pdf_di...   \n",
       "6227  http://sharkattackfile.net/spreadsheets/pdf_di...   \n",
       "6232  http://sharkattackfile.net/spreadsheets/pdf_di...   \n",
       "\n",
       "                                                  url-2  case-number2  \\\n",
       "2     http://sharkattackfile.net/spreadsheets/pdf_di...    2018.06.09   \n",
       "13    http://sharkattackfile.net/spreadsheets/pdf_di...  2018.05.13.a   \n",
       "31    http://sharkattackfile.net/spreadsheets/pdf_di...  2018.04.10.R   \n",
       "43    http://sharkattackfile.net/spreadsheets/pdf_di...    2018.02.14   \n",
       "44    http://sharkattackfile.net/spreadsheets/pdf_di...    2018.02.11   \n",
       "...                                                 ...           ...   \n",
       "6147  http://sharkattackfile.net/spreadsheets/pdf_di...    1767.00.00   \n",
       "6157  http://sharkattackfile.net/spreadsheets/pdf_di...    1733.00.00   \n",
       "6164  http://sharkattackfile.net/spreadsheets/pdf_di...  1642.00.00.b   \n",
       "6227  http://sharkattackfile.net/spreadsheets/pdf_di...       ND.0086   \n",
       "6232  http://sharkattackfile.net/spreadsheets/pdf_di...       ND.0081   \n",
       "\n",
       "      case-number3  original-order empty1 empty2  \n",
       "2       2018.06.09          6301.0    NaN    NaN  \n",
       "13    2018.05.13.a          6290.0    NaN    NaN  \n",
       "31    2018.04.10.R          6272.0    NaN    NaN  \n",
       "43      2018.02.14          6260.0    NaN    NaN  \n",
       "44      2018.02.11          6259.0    NaN    NaN  \n",
       "...            ...             ...    ...    ...  \n",
       "6147    1767.00.00           156.0    NaN    NaN  \n",
       "6157    1733.00.00           146.0    NaN    NaN  \n",
       "6164  1642.00.00.b           139.0    NaN    NaN  \n",
       "6227       ND.0086            76.0    NaN    NaN  \n",
       "6232       ND.0081            71.0    NaN    NaN  \n",
       "\n",
       "[547 rows x 24 columns]"
      ]
     },
     "execution_count": 43,
     "metadata": {},
     "output_type": "execute_result"
    }
   ],
   "source": [
    "key_word = 'Invalid'\n",
    "\n",
    "find = df[df.typeattack.str.contains(key_word, regex=True)]\n",
    "\n",
    "find"
   ]
  },
  {
   "cell_type": "code",
   "execution_count": 44,
   "metadata": {},
   "outputs": [],
   "source": [
    "#vamos a probar una forma de borrar invalid, y si funciona le añado el resto\n",
    "\n",
    "df = df[df[\"typeattack\"].str.contains(\"Invalid\") == False]\n"
   ]
  },
  {
   "cell_type": "code",
   "execution_count": 45,
   "metadata": {},
   "outputs": [
    {
     "data": {
      "text/plain": [
       "(5765, 24)"
      ]
     },
     "execution_count": 45,
     "metadata": {},
     "output_type": "execute_result"
    }
   ],
   "source": [
    "df.shape"
   ]
  },
  {
   "cell_type": "code",
   "execution_count": 46,
   "metadata": {},
   "outputs": [
    {
     "data": {
      "text/plain": [
       "Unprovoked      4595\n",
       "Provoked         574\n",
       "Sea Disaster     239\n",
       "Boating          203\n",
       "Boat             137\n",
       "unknown           14\n",
       "Questionable       2\n",
       "Boatomg            1\n",
       "Name: typeattack, dtype: int64"
      ]
     },
     "execution_count": 46,
     "metadata": {},
     "output_type": "execute_result"
    }
   ],
   "source": [
    "df.typeattack.value_counts()"
   ]
  },
  {
   "cell_type": "code",
   "execution_count": 48,
   "metadata": {},
   "outputs": [
    {
     "data": {
      "text/plain": [
       "14"
      ]
     },
     "execution_count": 48,
     "metadata": {},
     "output_type": "execute_result"
    }
   ],
   "source": [
    "#funciono!!! aunque si comparo el antes y despues veo que solo borro 367 filas y no las 547 iniciales, sin embargo ya no sale como value counts. prosigo borrado de otras filas.\n",
    "\n",
    "key_word = 'unknown'\n",
    "\n",
    "find = df[df.typeattack.str.contains(key_word, regex=True)]\n",
    "\n",
    "len(find)"
   ]
  },
  {
   "cell_type": "code",
   "execution_count": 49,
   "metadata": {},
   "outputs": [],
   "source": [
    "df = df[df[\"typeattack\"].str.contains(\"Questionable\") == False]\n",
    "\n"
   ]
  },
  {
   "cell_type": "code",
   "execution_count": 50,
   "metadata": {},
   "outputs": [],
   "source": [
    "df = df[df[\"typeattack\"].str.contains(\"unknown\") == False]\n"
   ]
  },
  {
   "cell_type": "code",
   "execution_count": 51,
   "metadata": {},
   "outputs": [
    {
     "data": {
      "text/plain": [
       "Unprovoked      4595\n",
       "Provoked         574\n",
       "Sea Disaster     239\n",
       "Boating          203\n",
       "Boat             137\n",
       "Boatomg            1\n",
       "Name: typeattack, dtype: int64"
      ]
     },
     "execution_count": 51,
     "metadata": {},
     "output_type": "execute_result"
    }
   ],
   "source": [
    "#ya tenemos los datos bastante mas congruentes ahora deberiamos ver como pasar ese Boatomg o eliminar, que es mas facil y es solo un dato\n",
    "\n",
    "df.typeattack.value_counts()"
   ]
  },
  {
   "cell_type": "code",
   "execution_count": 52,
   "metadata": {},
   "outputs": [],
   "source": [
    "df = df[df[\"typeattack\"].str.contains(\"Boatomg\") == False]\n"
   ]
  },
  {
   "cell_type": "code",
   "execution_count": 53,
   "metadata": {},
   "outputs": [
    {
     "data": {
      "text/plain": [
       "Unprovoked      4595\n",
       "Provoked         574\n",
       "Sea Disaster     239\n",
       "Boating          203\n",
       "Boat             137\n",
       "Name: typeattack, dtype: int64"
      ]
     },
     "execution_count": 53,
     "metadata": {},
     "output_type": "execute_result"
    }
   ],
   "source": [
    "#ahora debemos reemplazar boating o boat para juntar los datos\n",
    "df.typeattack.value_counts()"
   ]
  },
  {
   "cell_type": "code",
   "execution_count": 54,
   "metadata": {},
   "outputs": [],
   "source": [
    "# de esta forma ya unificamos los datos y tenemos una columna perfecta\n",
    "\n",
    "df['typeattack'] = df['typeattack'].str.replace('Boating','Boat')"
   ]
  },
  {
   "cell_type": "code",
   "execution_count": 55,
   "metadata": {},
   "outputs": [
    {
     "data": {
      "text/plain": [
       "Unprovoked      4595\n",
       "Provoked         574\n",
       "Boat             340\n",
       "Sea Disaster     239\n",
       "Name: typeattack, dtype: int64"
      ]
     },
     "execution_count": 55,
     "metadata": {},
     "output_type": "execute_result"
    }
   ],
   "source": [
    "#boat y sea disaster are very similar se podria juntar ambas o diferenciar, por alta mar y cerca de la costa.\n",
    "df.typeattack.value_counts()"
   ]
  },
  {
   "cell_type": "markdown",
   "metadata": {},
   "source": [
    "--------"
   ]
  },
  {
   "cell_type": "markdown",
   "metadata": {},
   "source": [
    "# Empieza Country"
   ]
  },
  {
   "cell_type": "code",
   "execution_count": 56,
   "metadata": {},
   "outputs": [
    {
     "data": {
      "text/plain": [
       "array(['USA', 'AUSTRALIA', 'MEXICO', 'BRAZIL', 'SOUTH AFRICA', 'THAILAND',\n",
       "       'COSTA RICA', 'MALDIVES', 'BAHAMAS', 'NEW CALEDONIA', 'ECUADOR',\n",
       "       'MALAYSIA', 'LIBYA', nan, 'CUBA', 'MAURITIUS', 'NEW ZEALAND',\n",
       "       'SPAIN', 'SOLOMON ISLANDS', 'JAPAN', 'EGYPT',\n",
       "       'ST HELENA, British overseas territory', 'REUNION',\n",
       "       'FRENCH POLYNESIA', 'UNITED KINGDOM', 'UNITED ARAB EMIRATES',\n",
       "       'PHILIPPINES', 'INDONESIA', 'CHINA', 'COLUMBIA', 'Fiji',\n",
       "       'DOMINICAN REPUBLIC', 'ARUBA', 'MOZAMBIQUE', 'FIJI', 'PUERTO RICO',\n",
       "       'ATLANTIC OCEAN', 'GREECE', 'ST. MARTIN', 'FRANCE',\n",
       "       'PAPUA NEW GUINEA', 'TRINIDAD & TOBAGO', 'KIRIBATI', 'ISRAEL',\n",
       "       'DIEGO GARCIA', 'TAIWAN', 'PALESTINIAN TERRITORIES', 'GUAM',\n",
       "       'SEYCHELLES', 'BELIZE', 'JAMAICA', 'NIGERIA', 'TONGA', 'SCOTLAND',\n",
       "       'ITALY', 'CHILE', 'KENYA', 'RUSSIA', 'TURKS & CAICOS', 'SAMOA',\n",
       "       'AZORES', 'SOUTH KOREA', 'MALTA', 'VIETNAM', 'MADAGASCAR',\n",
       "       'UNITED ARAB EMIRATES (UAE)', 'PANAMA', 'SOMALIA', 'CROATIA',\n",
       "       'ENGLAND', 'NORWAY', 'YEMEN', 'GULF OF ADEN', 'Sierra Leone',\n",
       "       'ST. MAARTIN', 'GRAND CAYMAN', 'VANUATU', 'MEXICO ', 'VENEZUELA',\n",
       "       ' TONGA', 'URUGUAY', 'INDIA', 'MICRONESIA', 'CARIBBEAN SEA',\n",
       "       'CANADA', 'OKINAWA', 'TANZANIA', 'MARSHALL ISLANDS', 'SENEGAL',\n",
       "       'EGYPT / ISRAEL', 'NORTHERN ARABIAN SEA', 'HONG KONG',\n",
       "       'EL SALVADOR', 'ANGOLA', 'IRAN', 'TUNISIA', 'NAMIBIA', 'BERMUDA',\n",
       "       'NORTH ATLANTIC OCEAN', 'SOUTH CHINA SEA', 'BANGLADESH', 'PALAU',\n",
       "       'WESTERN SAMOA', 'PACIFIC OCEAN ', 'BRITISH ISLES', 'GRENADA',\n",
       "       'SRI LANKA', 'IRAQ', 'TURKEY', 'SINGAPORE', 'NEW BRITAIN', 'SUDAN',\n",
       "       'JOHNSTON ISLAND', 'SOUTH PACIFIC OCEAN', 'NEW GUINEA', 'RED SEA',\n",
       "       'NORTH PACIFIC OCEAN', 'FEDERATED STATES OF MICRONESIA',\n",
       "       'MID ATLANTIC OCEAN', 'ADMIRALTY ISLANDS', 'BRITISH WEST INDIES',\n",
       "       'SOUTH ATLANTIC OCEAN', 'PERSIAN GULF', 'RED SEA / INDIAN OCEAN',\n",
       "       'PACIFIC OCEAN', 'NORTH SEA', 'NICARAGUA ', 'MALDIVE ISLANDS',\n",
       "       'AMERICAN SAMOA', 'ANDAMAN / NICOBAR ISLANDAS', 'GABON', 'MAYOTTE',\n",
       "       'PORTUGAL', 'NORTH ATLANTIC OCEAN ', 'MONTENEGRO', 'THE BALKANS',\n",
       "       'SUDAN?', 'ARGENTINA', 'MARTINIQUE', 'INDIAN OCEAN',\n",
       "       'NETHERLANDS ANTILLES', 'LIBERIA', 'SAUDI ARABIA',\n",
       "       'NORTHERN MARIANA ISLANDS', 'IRAN / IRAQ', 'JAVA', 'SIERRA LEONE',\n",
       "       ' PHILIPPINES', 'NICARAGUA', 'CENTRAL PACIFIC',\n",
       "       'SOLOMON ISLANDS / VANUATU', 'SOUTHWEST PACIFIC OCEAN',\n",
       "       'BAY OF BENGAL', 'MID-PACIFC OCEAN', 'SLOVENIA', 'CURACAO',\n",
       "       'ICELAND', 'BARBADOS', 'CAPE VERDE', 'HONDURAS', 'MONACO',\n",
       "       'GUYANA', 'HAITI', 'SAN DOMINGO', 'IRELAND', 'KUWAIT', 'YEMEN ',\n",
       "       'REUNION ISLAND', 'FALKLAND ISLANDS', 'CRETE', 'CYPRUS', 'EGYPT ',\n",
       "       'WEST INDIES', 'BURMA', 'LEBANON', 'PARAGUAY',\n",
       "       'BRITISH NEW GUINEA', 'OCEAN', 'GEORGIA', 'TUVALU',\n",
       "       'INDIAN OCEAN?', 'GUINEA', 'ANDAMAN ISLANDS', 'CEYLON',\n",
       "       'EQUATORIAL GUINEA / CAMEROON', 'COOK ISLANDS', 'TOBAGO', 'PERU',\n",
       "       'AFRICA', 'ALGERIA', 'Coast of AFRICA', 'TASMAN SEA', 'GHANA',\n",
       "       'ANTIGUA', 'GREENLAND', 'MEDITERRANEAN SEA', 'SWEDEN', 'ROATAN',\n",
       "       'Between PORTUGAL & INDIA', 'DJIBOUTI', 'BAHREIN', 'KOREA',\n",
       "       'RED SEA?', 'ASIA?', 'CEYLON (SRI LANKA)'], dtype=object)"
      ]
     },
     "execution_count": 56,
     "metadata": {},
     "output_type": "execute_result"
    }
   ],
   "source": [
    "df.country.unique()\n",
    "#hay un cholon de cosas, y bueno podria ser bueno quitar las upper case,  y ver si hay espacios mal puestos"
   ]
  },
  {
   "cell_type": "code",
   "execution_count": 86,
   "metadata": {},
   "outputs": [
    {
     "data": {
      "text/plain": [
       "USA                   2036\n",
       "Australia             1216\n",
       "South Africa           514\n",
       "Papua new guinea       132\n",
       "New Zealand            115\n",
       "                      ... \n",
       "Western samoa            1\n",
       "philippines              1\n",
       "Java                     1\n",
       "Iran / iraq              1\n",
       "Ceylon (sri lanka)       1\n",
       "Name: country, Length: 196, dtype: int64"
      ]
     },
     "execution_count": 86,
     "metadata": {},
     "output_type": "execute_result"
    }
   ],
   "source": [
    "df.country.value_counts()"
   ]
  },
  {
   "cell_type": "markdown",
   "metadata": {},
   "source": [
    "### Rellenamos espacios en blanco con unknown y podemos filtrar etc."
   ]
  },
  {
   "cell_type": "code",
   "execution_count": 58,
   "metadata": {},
   "outputs": [],
   "source": [
    "df.country.fillna('unknown', inplace=True)\n"
   ]
  },
  {
   "cell_type": "code",
   "execution_count": 59,
   "metadata": {},
   "outputs": [
    {
     "data": {
      "text/html": [
       "<div>\n",
       "<style scoped>\n",
       "    .dataframe tbody tr th:only-of-type {\n",
       "        vertical-align: middle;\n",
       "    }\n",
       "\n",
       "    .dataframe tbody tr th {\n",
       "        vertical-align: top;\n",
       "    }\n",
       "\n",
       "    .dataframe thead th {\n",
       "        text-align: right;\n",
       "    }\n",
       "</style>\n",
       "<table border=\"1\" class=\"dataframe\">\n",
       "  <thead>\n",
       "    <tr style=\"text-align: right;\">\n",
       "      <th></th>\n",
       "      <th>case-number1</th>\n",
       "      <th>date</th>\n",
       "      <th>Year</th>\n",
       "      <th>typeattack</th>\n",
       "      <th>country</th>\n",
       "      <th>area</th>\n",
       "      <th>location</th>\n",
       "      <th>activity</th>\n",
       "      <th>name</th>\n",
       "      <th>sex</th>\n",
       "      <th>age</th>\n",
       "      <th>injury</th>\n",
       "      <th>fatality</th>\n",
       "      <th>time</th>\n",
       "      <th>species</th>\n",
       "      <th>source</th>\n",
       "      <th>pdf</th>\n",
       "      <th>url-1</th>\n",
       "      <th>url-2</th>\n",
       "      <th>case-number2</th>\n",
       "      <th>case-number3</th>\n",
       "      <th>original-order</th>\n",
       "      <th>empty1</th>\n",
       "      <th>empty2</th>\n",
       "    </tr>\n",
       "  </thead>\n",
       "  <tbody>\n",
       "    <tr>\n",
       "      <th>786</th>\n",
       "      <td>2012.06.10</td>\n",
       "      <td>10-Jun-2012</td>\n",
       "      <td>2012.0</td>\n",
       "      <td>Provoked</td>\n",
       "      <td>ITALY</td>\n",
       "      <td>Sardinia</td>\n",
       "      <td>Muravera</td>\n",
       "      <td>Attempting to rescue an injured &amp; beached shark</td>\n",
       "      <td>Giorgio Zara</td>\n",
       "      <td>M</td>\n",
       "      <td>57</td>\n",
       "      <td>Lower left leg injured PROVOKED ACCIDENT</td>\n",
       "      <td>2017</td>\n",
       "      <td>Morning</td>\n",
       "      <td>Blue shark, 2.5m</td>\n",
       "      <td>D. Puddo, 6/11/2012</td>\n",
       "      <td>2012.06.10-Zara.pdf</td>\n",
       "      <td>http://sharkattackfile.net/spreadsheets/pdf_di...</td>\n",
       "      <td>http://sharkattackfile.net/spreadsheets/pdf_di...</td>\n",
       "      <td>2012.06.10</td>\n",
       "      <td>2012.06.10</td>\n",
       "      <td>5517.0</td>\n",
       "      <td>NaN</td>\n",
       "      <td>NaN</td>\n",
       "    </tr>\n",
       "    <tr>\n",
       "      <th>1443</th>\n",
       "      <td>2006.08.20.b</td>\n",
       "      <td>20-Aug-2006</td>\n",
       "      <td>2006.0</td>\n",
       "      <td>Sea Disaster</td>\n",
       "      <td>ITALY</td>\n",
       "      <td>NaN</td>\n",
       "      <td>Lampedusa Island</td>\n",
       "      <td>Sea Disaster</td>\n",
       "      <td>a refugee</td>\n",
       "      <td>M</td>\n",
       "      <td>NaN</td>\n",
       "      <td>FATAL</td>\n",
       "      <td>Y</td>\n",
       "      <td>NaN</td>\n",
       "      <td>NaN</td>\n",
       "      <td>IM/LR</td>\n",
       "      <td>2006.08.20.b-Lampedusa.pdf</td>\n",
       "      <td>http://sharkattackfile.net/spreadsheets/pdf_di...</td>\n",
       "      <td>http://sharkattackfile.net/spreadsheets/pdf_di...</td>\n",
       "      <td>2006.08.20.b</td>\n",
       "      <td>2006.08.20.b</td>\n",
       "      <td>4860.0</td>\n",
       "      <td>NaN</td>\n",
       "      <td>NaN</td>\n",
       "    </tr>\n",
       "    <tr>\n",
       "      <th>1928</th>\n",
       "      <td>2001.08.03</td>\n",
       "      <td>03-Aug-2001</td>\n",
       "      <td>2001.0</td>\n",
       "      <td>Boat</td>\n",
       "      <td>ITALY</td>\n",
       "      <td>NaN</td>\n",
       "      <td>Rimini</td>\n",
       "      <td>Fishing</td>\n",
       "      <td>boat; occupants: T &amp; G Longhi</td>\n",
       "      <td>NaN</td>\n",
       "      <td>NaN</td>\n",
       "      <td>No Injury to occupants</td>\n",
       "      <td>N</td>\n",
       "      <td>NaN</td>\n",
       "      <td>NaN</td>\n",
       "      <td>MEDSAF</td>\n",
       "      <td>2001.08.03-Longhi.pdf</td>\n",
       "      <td>http://sharkattackfile.net/spreadsheets/pdf_di...</td>\n",
       "      <td>http://sharkattackfile.net/spreadsheets/pdf_di...</td>\n",
       "      <td>2001.08.03</td>\n",
       "      <td>2001.08.03</td>\n",
       "      <td>4375.0</td>\n",
       "      <td>NaN</td>\n",
       "      <td>NaN</td>\n",
       "    </tr>\n",
       "    <tr>\n",
       "      <th>2098</th>\n",
       "      <td>1999.09.24</td>\n",
       "      <td>24-Sep-1999</td>\n",
       "      <td>1999.0</td>\n",
       "      <td>Boat</td>\n",
       "      <td>ITALY</td>\n",
       "      <td>Adriatic Sea</td>\n",
       "      <td>San Benedetto</td>\n",
       "      <td>Fishing</td>\n",
       "      <td>Boat “Coca Cola”</td>\n",
       "      <td>NaN</td>\n",
       "      <td>NaN</td>\n",
       "      <td>No Injury to occupants</td>\n",
       "      <td>N</td>\n",
       "      <td>NaN</td>\n",
       "      <td>Said to involve a 7 m [23'] white shark</td>\n",
       "      <td>Orlando Sentinel, 9/28/1999, p.A12</td>\n",
       "      <td>1999.09.24-boat.pdf</td>\n",
       "      <td>http://sharkattackfile.net/spreadsheets/pdf_di...</td>\n",
       "      <td>http://sharkattackfile.net/spreadsheets/pdf_di...</td>\n",
       "      <td>1999.09.24</td>\n",
       "      <td>1999.09.24</td>\n",
       "      <td>4205.0</td>\n",
       "      <td>NaN</td>\n",
       "      <td>NaN</td>\n",
       "    </tr>\n",
       "    <tr>\n",
       "      <th>2587</th>\n",
       "      <td>1991.07.30</td>\n",
       "      <td>30-Jul-1991</td>\n",
       "      <td>1991.0</td>\n",
       "      <td>Boat</td>\n",
       "      <td>ITALY</td>\n",
       "      <td>Ligurian Sea</td>\n",
       "      <td>Portofino, 20 miles offshore, Tigullio Bay, Sa...</td>\n",
       "      <td>Canoeing</td>\n",
       "      <td>Ivana Iacaccia</td>\n",
       "      <td>F</td>\n",
       "      <td>40</td>\n",
       "      <td>No Injury to occupant; canoe bitten</td>\n",
       "      <td>N</td>\n",
       "      <td>15h30</td>\n",
       "      <td>4 m [13'] white shark</td>\n",
       "      <td>Stars &amp; Stripes, 8/5/1991, p.8; A. De Maddalen...</td>\n",
       "      <td>1991.07.30-Ivana-Iacaccia.pdf</td>\n",
       "      <td>http://sharkattackfile.net/spreadsheets/pdf_di...</td>\n",
       "      <td>http://sharkattackfile.net/spreadsheets/pdf_di...</td>\n",
       "      <td>1991.07.30</td>\n",
       "      <td>1991.07.30</td>\n",
       "      <td>3716.0</td>\n",
       "      <td>NaN</td>\n",
       "      <td>NaN</td>\n",
       "    </tr>\n",
       "  </tbody>\n",
       "</table>\n",
       "</div>"
      ],
      "text/plain": [
       "      case-number1         date    Year    typeattack country          area  \\\n",
       "786     2012.06.10  10-Jun-2012  2012.0      Provoked   ITALY      Sardinia   \n",
       "1443  2006.08.20.b  20-Aug-2006  2006.0  Sea Disaster   ITALY           NaN   \n",
       "1928    2001.08.03  03-Aug-2001  2001.0          Boat   ITALY           NaN   \n",
       "2098    1999.09.24  24-Sep-1999  1999.0          Boat   ITALY  Adriatic Sea   \n",
       "2587    1991.07.30  30-Jul-1991  1991.0          Boat   ITALY  Ligurian Sea   \n",
       "\n",
       "                                               location  \\\n",
       "786                                            Muravera   \n",
       "1443                                   Lampedusa Island   \n",
       "1928                                             Rimini   \n",
       "2098                                      San Benedetto   \n",
       "2587  Portofino, 20 miles offshore, Tigullio Bay, Sa...   \n",
       "\n",
       "                                             activity  \\\n",
       "786   Attempting to rescue an injured & beached shark   \n",
       "1443                                     Sea Disaster   \n",
       "1928                                          Fishing   \n",
       "2098                                          Fishing   \n",
       "2587                                         Canoeing   \n",
       "\n",
       "                               name  sex  age  \\\n",
       "786                    Giorgio Zara    M   57   \n",
       "1443                      a refugee    M  NaN   \n",
       "1928  boat; occupants: T & G Longhi  NaN  NaN   \n",
       "2098               Boat “Coca Cola”  NaN  NaN   \n",
       "2587                 Ivana Iacaccia    F   40   \n",
       "\n",
       "                                        injury fatality     time  \\\n",
       "786   Lower left leg injured PROVOKED ACCIDENT     2017  Morning   \n",
       "1443                                     FATAL        Y      NaN   \n",
       "1928                    No Injury to occupants        N      NaN   \n",
       "2098                    No Injury to occupants        N      NaN   \n",
       "2587       No Injury to occupant; canoe bitten        N    15h30   \n",
       "\n",
       "                                      species  \\\n",
       "786                          Blue shark, 2.5m   \n",
       "1443                                      NaN   \n",
       "1928                                      NaN   \n",
       "2098  Said to involve a 7 m [23'] white shark   \n",
       "2587                    4 m [13'] white shark   \n",
       "\n",
       "                                                 source  \\\n",
       "786                                 D. Puddo, 6/11/2012   \n",
       "1443                                              IM/LR   \n",
       "1928                                             MEDSAF   \n",
       "2098                 Orlando Sentinel, 9/28/1999, p.A12   \n",
       "2587  Stars & Stripes, 8/5/1991, p.8; A. De Maddalen...   \n",
       "\n",
       "                                pdf  \\\n",
       "786             2012.06.10-Zara.pdf   \n",
       "1443     2006.08.20.b-Lampedusa.pdf   \n",
       "1928          2001.08.03-Longhi.pdf   \n",
       "2098            1999.09.24-boat.pdf   \n",
       "2587  1991.07.30-Ivana-Iacaccia.pdf   \n",
       "\n",
       "                                                  url-1  \\\n",
       "786   http://sharkattackfile.net/spreadsheets/pdf_di...   \n",
       "1443  http://sharkattackfile.net/spreadsheets/pdf_di...   \n",
       "1928  http://sharkattackfile.net/spreadsheets/pdf_di...   \n",
       "2098  http://sharkattackfile.net/spreadsheets/pdf_di...   \n",
       "2587  http://sharkattackfile.net/spreadsheets/pdf_di...   \n",
       "\n",
       "                                                  url-2  case-number2  \\\n",
       "786   http://sharkattackfile.net/spreadsheets/pdf_di...    2012.06.10   \n",
       "1443  http://sharkattackfile.net/spreadsheets/pdf_di...  2006.08.20.b   \n",
       "1928  http://sharkattackfile.net/spreadsheets/pdf_di...    2001.08.03   \n",
       "2098  http://sharkattackfile.net/spreadsheets/pdf_di...    1999.09.24   \n",
       "2587  http://sharkattackfile.net/spreadsheets/pdf_di...    1991.07.30   \n",
       "\n",
       "      case-number3  original-order empty1 empty2  \n",
       "786     2012.06.10          5517.0    NaN    NaN  \n",
       "1443  2006.08.20.b          4860.0    NaN    NaN  \n",
       "1928    2001.08.03          4375.0    NaN    NaN  \n",
       "2098    1999.09.24          4205.0    NaN    NaN  \n",
       "2587    1991.07.30          3716.0    NaN    NaN  "
      ]
     },
     "execution_count": 59,
     "metadata": {},
     "output_type": "execute_result"
    }
   ],
   "source": [
    "key_word = 'ITALY'\n",
    "\n",
    "find = df[df.country.str.contains(key_word)]\n",
    "find.head()"
   ]
  },
  {
   "cell_type": "markdown",
   "metadata": {},
   "source": [
    "### Hacemos un lower case "
   ]
  },
  {
   "cell_type": "code",
   "execution_count": 60,
   "metadata": {},
   "outputs": [
    {
     "data": {
      "text/plain": [
       "0                      usa\n",
       "1                      usa\n",
       "3                australia\n",
       "4                   mexico\n",
       "5                australia\n",
       "               ...        \n",
       "6297             australia\n",
       "6298             australia\n",
       "6299                   usa\n",
       "6300                panama\n",
       "6301    ceylon (sri lanka)\n",
       "Name: country, Length: 5748, dtype: object"
      ]
     },
     "execution_count": 60,
     "metadata": {},
     "output_type": "execute_result"
    }
   ],
   "source": [
    "df['country'].str.lower()\n"
   ]
  },
  {
   "cell_type": "code",
   "execution_count": 61,
   "metadata": {},
   "outputs": [],
   "source": [
    "\n",
    "df['country'] = df['country'].str.capitalize()\n"
   ]
  },
  {
   "cell_type": "code",
   "execution_count": 62,
   "metadata": {},
   "outputs": [
    {
     "data": {
      "text/html": [
       "<div>\n",
       "<style scoped>\n",
       "    .dataframe tbody tr th:only-of-type {\n",
       "        vertical-align: middle;\n",
       "    }\n",
       "\n",
       "    .dataframe tbody tr th {\n",
       "        vertical-align: top;\n",
       "    }\n",
       "\n",
       "    .dataframe thead th {\n",
       "        text-align: right;\n",
       "    }\n",
       "</style>\n",
       "<table border=\"1\" class=\"dataframe\">\n",
       "  <thead>\n",
       "    <tr style=\"text-align: right;\">\n",
       "      <th></th>\n",
       "      <th>case-number1</th>\n",
       "      <th>date</th>\n",
       "      <th>Year</th>\n",
       "      <th>typeattack</th>\n",
       "      <th>country</th>\n",
       "      <th>area</th>\n",
       "      <th>location</th>\n",
       "      <th>activity</th>\n",
       "      <th>name</th>\n",
       "      <th>sex</th>\n",
       "      <th>age</th>\n",
       "      <th>injury</th>\n",
       "      <th>fatality</th>\n",
       "      <th>time</th>\n",
       "      <th>species</th>\n",
       "      <th>source</th>\n",
       "      <th>pdf</th>\n",
       "      <th>url-1</th>\n",
       "      <th>url-2</th>\n",
       "      <th>case-number2</th>\n",
       "      <th>case-number3</th>\n",
       "      <th>original-order</th>\n",
       "      <th>empty1</th>\n",
       "      <th>empty2</th>\n",
       "    </tr>\n",
       "  </thead>\n",
       "  <tbody>\n",
       "    <tr>\n",
       "      <th>62</th>\n",
       "      <td>2017.11.13.R</td>\n",
       "      <td>13-Nov-2017</td>\n",
       "      <td>2017.0</td>\n",
       "      <td>Unprovoked</td>\n",
       "      <td>Unknown</td>\n",
       "      <td>NaN</td>\n",
       "      <td>NaN</td>\n",
       "      <td>Surfing</td>\n",
       "      <td>Timur Yunusov</td>\n",
       "      <td>M</td>\n",
       "      <td>24</td>\n",
       "      <td>Puncture wounds to feet</td>\n",
       "      <td>N</td>\n",
       "      <td>NaN</td>\n",
       "      <td>NaN</td>\n",
       "      <td>Instagram</td>\n",
       "      <td>2017.11.13.R-Timur.pdf</td>\n",
       "      <td>http://sharkattackfile.net/spreadsheets/pdf_di...</td>\n",
       "      <td>http://sharkattackfile.net/spreadsheets/pdf_di...</td>\n",
       "      <td>2017.11.13.R</td>\n",
       "      <td>2017.11.13.R</td>\n",
       "      <td>6241.0</td>\n",
       "      <td>NaN</td>\n",
       "      <td>NaN</td>\n",
       "    </tr>\n",
       "    <tr>\n",
       "      <th>2956</th>\n",
       "      <td>1983.00.00.d</td>\n",
       "      <td>Ca. 1983</td>\n",
       "      <td>1983.0</td>\n",
       "      <td>Unprovoked</td>\n",
       "      <td>Unknown</td>\n",
       "      <td>English Channel</td>\n",
       "      <td>NaN</td>\n",
       "      <td>Swimming</td>\n",
       "      <td>Padma Shri Taranath Narayan Shenoy</td>\n",
       "      <td>M</td>\n",
       "      <td>NaN</td>\n",
       "      <td>Left leg bitten</td>\n",
       "      <td>N</td>\n",
       "      <td>NaN</td>\n",
       "      <td>NaN</td>\n",
       "      <td>Times of India, 2/5/2012</td>\n",
       "      <td>1983.00.00.d-Shenoy.pdf</td>\n",
       "      <td>http://sharkattackfile.net/spreadsheets/pdf_di...</td>\n",
       "      <td>http://sharkattackfile.net/spreadsheets/pdf_di...</td>\n",
       "      <td>1983.00.00.d</td>\n",
       "      <td>1983.00.00.d</td>\n",
       "      <td>3347.0</td>\n",
       "      <td>NaN</td>\n",
       "      <td>NaN</td>\n",
       "    </tr>\n",
       "    <tr>\n",
       "      <th>3378</th>\n",
       "      <td>1970.11.00</td>\n",
       "      <td>Nov-1970</td>\n",
       "      <td>1970.0</td>\n",
       "      <td>Unprovoked</td>\n",
       "      <td>Unknown</td>\n",
       "      <td>NaN</td>\n",
       "      <td>NaN</td>\n",
       "      <td>NaN</td>\n",
       "      <td>Heinz Plotsky</td>\n",
       "      <td>M</td>\n",
       "      <td>NaN</td>\n",
       "      <td>Extensive injuries</td>\n",
       "      <td>N</td>\n",
       "      <td>NaN</td>\n",
       "      <td>NaN</td>\n",
       "      <td>H.D. Baldridge (1994), SAF Case #1645</td>\n",
       "      <td>1970.11.00-NV-Plotsky.pdf</td>\n",
       "      <td>http://sharkattackfile.net/spreadsheets/pdf_di...</td>\n",
       "      <td>http://sharkattackfile.net/spreadsheets/pdf_di...</td>\n",
       "      <td>1970.11.00</td>\n",
       "      <td>1970.11.00</td>\n",
       "      <td>2925.0</td>\n",
       "      <td>NaN</td>\n",
       "      <td>NaN</td>\n",
       "    </tr>\n",
       "    <tr>\n",
       "      <th>3388</th>\n",
       "      <td>1970.07.05</td>\n",
       "      <td>5-Jul-1970</td>\n",
       "      <td>1970.0</td>\n",
       "      <td>Unprovoked</td>\n",
       "      <td>Unknown</td>\n",
       "      <td>NaN</td>\n",
       "      <td>NaN</td>\n",
       "      <td>NaN</td>\n",
       "      <td>male</td>\n",
       "      <td>M</td>\n",
       "      <td>NaN</td>\n",
       "      <td>Finger or toe severed</td>\n",
       "      <td>N</td>\n",
       "      <td>Night</td>\n",
       "      <td>Mako shark</td>\n",
       "      <td>H.D. Baldridge (1994), SAF Case #1628</td>\n",
       "      <td>1970.07.05-NV-male.pdf</td>\n",
       "      <td>http://sharkattackfile.net/spreadsheets/pdf_di...</td>\n",
       "      <td>http://sharkattackfile.net/spreadsheets/pdf_di...</td>\n",
       "      <td>1970.07.05</td>\n",
       "      <td>1970.07.05</td>\n",
       "      <td>2915.0</td>\n",
       "      <td>NaN</td>\n",
       "      <td>NaN</td>\n",
       "    </tr>\n",
       "    <tr>\n",
       "      <th>3395</th>\n",
       "      <td>1970.04.00.b</td>\n",
       "      <td>Apr-1970</td>\n",
       "      <td>1970.0</td>\n",
       "      <td>Provoked</td>\n",
       "      <td>Unknown</td>\n",
       "      <td>NaN</td>\n",
       "      <td>NaN</td>\n",
       "      <td>Freediving</td>\n",
       "      <td>Lionel Jarvis</td>\n",
       "      <td>M</td>\n",
       "      <td>NaN</td>\n",
       "      <td>Arm abraded &amp; lacerated. Recorded as PROVOKED ...</td>\n",
       "      <td>N</td>\n",
       "      <td>NaN</td>\n",
       "      <td>Wobbegong shark</td>\n",
       "      <td>H.D. Baldridge (1994), SAF Case #1616</td>\n",
       "      <td>1970.04.00.b-NV-Jarvis.pdf</td>\n",
       "      <td>http://sharkattackfile.net/spreadsheets/pdf_di...</td>\n",
       "      <td>http://sharkattackfile.net/spreadsheets/pdf_di...</td>\n",
       "      <td>1970.04.00.b</td>\n",
       "      <td>1970.04.00.b</td>\n",
       "      <td>2908.0</td>\n",
       "      <td>NaN</td>\n",
       "      <td>NaN</td>\n",
       "    </tr>\n",
       "  </tbody>\n",
       "</table>\n",
       "</div>"
      ],
      "text/plain": [
       "      case-number1          date    Year  typeattack  country  \\\n",
       "62    2017.11.13.R   13-Nov-2017  2017.0  Unprovoked  Unknown   \n",
       "2956  1983.00.00.d      Ca. 1983  1983.0  Unprovoked  Unknown   \n",
       "3378    1970.11.00      Nov-1970  1970.0  Unprovoked  Unknown   \n",
       "3388    1970.07.05    5-Jul-1970  1970.0  Unprovoked  Unknown   \n",
       "3395  1970.04.00.b      Apr-1970  1970.0    Provoked  Unknown   \n",
       "\n",
       "                 area location    activity  \\\n",
       "62                NaN      NaN     Surfing   \n",
       "2956  English Channel      NaN    Swimming   \n",
       "3378              NaN      NaN         NaN   \n",
       "3388              NaN      NaN         NaN   \n",
       "3395              NaN      NaN  Freediving   \n",
       "\n",
       "                                    name sex  age  \\\n",
       "62                         Timur Yunusov   M   24   \n",
       "2956  Padma Shri Taranath Narayan Shenoy   M  NaN   \n",
       "3378                       Heinz Plotsky   M  NaN   \n",
       "3388                                male   M  NaN   \n",
       "3395                       Lionel Jarvis   M  NaN   \n",
       "\n",
       "                                                 injury fatality   time  \\\n",
       "62                              Puncture wounds to feet        N    NaN   \n",
       "2956                                    Left leg bitten        N    NaN   \n",
       "3378                                 Extensive injuries        N    NaN   \n",
       "3388                              Finger or toe severed        N  Night   \n",
       "3395  Arm abraded & lacerated. Recorded as PROVOKED ...        N    NaN   \n",
       "\n",
       "               species                                  source  \\\n",
       "62                 NaN                               Instagram   \n",
       "2956               NaN                Times of India, 2/5/2012   \n",
       "3378               NaN   H.D. Baldridge (1994), SAF Case #1645   \n",
       "3388        Mako shark   H.D. Baldridge (1994), SAF Case #1628   \n",
       "3395  Wobbegong shark    H.D. Baldridge (1994), SAF Case #1616   \n",
       "\n",
       "                             pdf  \\\n",
       "62        2017.11.13.R-Timur.pdf   \n",
       "2956     1983.00.00.d-Shenoy.pdf   \n",
       "3378   1970.11.00-NV-Plotsky.pdf   \n",
       "3388      1970.07.05-NV-male.pdf   \n",
       "3395  1970.04.00.b-NV-Jarvis.pdf   \n",
       "\n",
       "                                                  url-1  \\\n",
       "62    http://sharkattackfile.net/spreadsheets/pdf_di...   \n",
       "2956  http://sharkattackfile.net/spreadsheets/pdf_di...   \n",
       "3378  http://sharkattackfile.net/spreadsheets/pdf_di...   \n",
       "3388  http://sharkattackfile.net/spreadsheets/pdf_di...   \n",
       "3395  http://sharkattackfile.net/spreadsheets/pdf_di...   \n",
       "\n",
       "                                                  url-2  case-number2  \\\n",
       "62    http://sharkattackfile.net/spreadsheets/pdf_di...  2017.11.13.R   \n",
       "2956  http://sharkattackfile.net/spreadsheets/pdf_di...  1983.00.00.d   \n",
       "3378  http://sharkattackfile.net/spreadsheets/pdf_di...    1970.11.00   \n",
       "3388  http://sharkattackfile.net/spreadsheets/pdf_di...    1970.07.05   \n",
       "3395  http://sharkattackfile.net/spreadsheets/pdf_di...  1970.04.00.b   \n",
       "\n",
       "      case-number3  original-order empty1 empty2  \n",
       "62    2017.11.13.R          6241.0    NaN    NaN  \n",
       "2956  1983.00.00.d          3347.0    NaN    NaN  \n",
       "3378    1970.11.00          2925.0    NaN    NaN  \n",
       "3388    1970.07.05          2915.0    NaN    NaN  \n",
       "3395  1970.04.00.b          2908.0    NaN    NaN  "
      ]
     },
     "execution_count": 62,
     "metadata": {},
     "output_type": "execute_result"
    }
   ],
   "source": [
    "key_word = 'Unknown'\n",
    "\n",
    "find = df[df.country.str.contains(key_word)]\n",
    "find.head()"
   ]
  },
  {
   "cell_type": "markdown",
   "metadata": {},
   "source": [
    "### Mejoramos algunos de los paises "
   ]
  },
  {
   "cell_type": "code",
   "execution_count": 63,
   "metadata": {},
   "outputs": [],
   "source": [
    "df['country'] = df['country'].str.replace('Usa','USA')"
   ]
  },
  {
   "cell_type": "code",
   "execution_count": 64,
   "metadata": {},
   "outputs": [],
   "source": [
    "df['country'] = df['country'].str.replace('United arab emirates','United Arab Emirates')"
   ]
  },
  {
   "cell_type": "code",
   "execution_count": 65,
   "metadata": {},
   "outputs": [],
   "source": [
    "df['country'] = df['country'].str.replace('South africa','South Africa')"
   ]
  },
  {
   "cell_type": "code",
   "execution_count": 85,
   "metadata": {},
   "outputs": [],
   "source": [
    "df['country'] = df['country'].str.replace('New zealand','New Zealand')"
   ]
  },
  {
   "cell_type": "markdown",
   "metadata": {},
   "source": [
    "### Quitamos espacios delante y detrás -"
   ]
  },
  {
   "cell_type": "code",
   "execution_count": 67,
   "metadata": {},
   "outputs": [],
   "source": [
    "df['country'] = df['country'].str.lstrip()\n"
   ]
  },
  {
   "cell_type": "code",
   "execution_count": 68,
   "metadata": {},
   "outputs": [],
   "source": [
    "df['country'] = df['country'].str.rstrip()\n"
   ]
  },
  {
   "cell_type": "markdown",
   "metadata": {},
   "source": [
    "### Vamos a quitar valores vacios "
   ]
  },
  {
   "cell_type": "code",
   "execution_count": 72,
   "metadata": {},
   "outputs": [],
   "source": [
    "##son unas 45 filas vacias que nos quitamos de golpe\n",
    "\n",
    "df = df[df[\"country\"].str.contains(\"Unknown\") == False]\n"
   ]
  },
  {
   "cell_type": "code",
   "execution_count": 80,
   "metadata": {},
   "outputs": [
    {
     "data": {
      "text/plain": [
       "(5703, 24)"
      ]
     },
     "execution_count": 80,
     "metadata": {},
     "output_type": "execute_result"
    }
   ],
   "source": [
    "df.shape"
   ]
  },
  {
   "cell_type": "code",
   "execution_count": 78,
   "metadata": {},
   "outputs": [],
   "source": [
    "df = df[df[\"country\"].str.contains(\"Unknown\") == False]"
   ]
  },
  {
   "cell_type": "code",
   "execution_count": 79,
   "metadata": {},
   "outputs": [
    {
     "data": {
      "text/plain": [
       "(5703, 24)"
      ]
     },
     "execution_count": 79,
     "metadata": {},
     "output_type": "execute_result"
    }
   ],
   "source": [
    "df.shape"
   ]
  },
  {
   "cell_type": "markdown",
   "metadata": {},
   "source": [
    "df['date'] = df['date'].str.replace('Reported','')"
   ]
  },
  {
   "cell_type": "code",
   "execution_count": null,
   "metadata": {},
   "outputs": [],
   "source": [
    "### borrar nulos con la mediana ( para columna edada) df.price.fillna(df.price.mean(), inplace=True)"
   ]
  },
  {
   "cell_type": "code",
   "execution_count": null,
   "metadata": {},
   "outputs": [],
   "source": [
    "# para hacer sort y luego borrar: df.sort_values(('invoicedate'), ascending=True).groupby('country').sum().head()\n",
    "\n",
    "# student.pivot_table(index=['school'], columns=['sex'])"
   ]
  },
  {
   "cell_type": "markdown",
   "metadata": {},
   "source": [
    "### Ahora podemos ver de eliminar paises inutiles"
   ]
  },
  {
   "cell_type": "code",
   "execution_count": 88,
   "metadata": {},
   "outputs": [
    {
     "data": {
      "text/plain": [
       "(4013, 24)"
      ]
     },
     "execution_count": 88,
     "metadata": {},
     "output_type": "execute_result"
    }
   ],
   "source": [
    "\n",
    "# eliminamos un monton de paises que no cumplan la condicion, ya que hay un momento que la base de datos baja de golpe el numero de valores, y por tanto su remprensatividad\n",
    "\n",
    "no_country = df[(df['country']!=\"USA\") & (df['country']!=\"Australia\")& (df['country']!=\"Papua new guinea\") & (df['country']!=\"South Africa\")& (df['country']!=\"New Zealand\")].index\n",
    "no_country\n",
    "no_country\n",
    "df.drop(no_country, axis=0, inplace=True)\n",
    "df.shape\n",
    "\n",
    "\n"
   ]
  }
 ],
 "metadata": {
  "kernelspec": {
   "display_name": "Python 3 (ipykernel)",
   "language": "python",
   "name": "python3"
  },
  "language_info": {
   "codemirror_mode": {
    "name": "ipython",
    "version": 3
   },
   "file_extension": ".py",
   "mimetype": "text/x-python",
   "name": "python",
   "nbconvert_exporter": "python",
   "pygments_lexer": "ipython3",
   "version": "3.9.12"
  },
  "vscode": {
   "interpreter": {
    "hash": "aee8b7b246df8f9039afb4144a1f6fd8d2ca17a180786b69acc140d282b71a49"
   }
  }
 },
 "nbformat": 4,
 "nbformat_minor": 2
}
